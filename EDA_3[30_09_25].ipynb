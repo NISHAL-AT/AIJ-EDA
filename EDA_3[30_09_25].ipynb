{
  "cells": [
    {
      "cell_type": "markdown",
      "metadata": {
        "id": "-awYp48-nPfE"
      },
      "source": [
        "EDA (Exploratory Data Analysis)\n",
        "\n",
        "Load and View Data"
      ]
    },
    {
      "cell_type": "code",
      "execution_count": 3,
      "metadata": {
        "colab": {
          "base_uri": "https://localhost:8080/",
          "height": 1000
        },
        "id": "G-eUawausyN5",
        "outputId": "da1fdf0a-98df-4c4e-847f-bfc0a835e761"
      },
      "outputs": [
        {
          "data": {
            "text/html": [
              "<div>\n",
              "<style scoped>\n",
              "    .dataframe tbody tr th:only-of-type {\n",
              "        vertical-align: middle;\n",
              "    }\n",
              "\n",
              "    .dataframe tbody tr th {\n",
              "        vertical-align: top;\n",
              "    }\n",
              "\n",
              "    .dataframe thead th {\n",
              "        text-align: right;\n",
              "    }\n",
              "</style>\n",
              "<table border=\"1\" class=\"dataframe\">\n",
              "  <thead>\n",
              "    <tr style=\"text-align: right;\">\n",
              "      <th></th>\n",
              "      <th>Job_Title</th>\n",
              "      <th>Industry</th>\n",
              "      <th>Company_Size</th>\n",
              "      <th>Location</th>\n",
              "      <th>AI_Adoption_Level</th>\n",
              "      <th>Automation_Risk</th>\n",
              "      <th>Required_Skills</th>\n",
              "      <th>Salary_USD</th>\n",
              "      <th>Remote_Friendly</th>\n",
              "      <th>Job_Growth_Projection</th>\n",
              "    </tr>\n",
              "  </thead>\n",
              "  <tbody>\n",
              "    <tr>\n",
              "      <th>0</th>\n",
              "      <td>Cybersecurity Analyst</td>\n",
              "      <td>Entertainment</td>\n",
              "      <td>Small</td>\n",
              "      <td>Dubai</td>\n",
              "      <td>Medium</td>\n",
              "      <td>High</td>\n",
              "      <td>UX/UI Design</td>\n",
              "      <td>111392.165243</td>\n",
              "      <td>Yes</td>\n",
              "      <td>Growth</td>\n",
              "    </tr>\n",
              "    <tr>\n",
              "      <th>1</th>\n",
              "      <td>Marketing Specialist</td>\n",
              "      <td>Technology</td>\n",
              "      <td>Large</td>\n",
              "      <td>Singapore</td>\n",
              "      <td>Medium</td>\n",
              "      <td>High</td>\n",
              "      <td>Marketing</td>\n",
              "      <td>93792.562466</td>\n",
              "      <td>No</td>\n",
              "      <td>Decline</td>\n",
              "    </tr>\n",
              "    <tr>\n",
              "      <th>2</th>\n",
              "      <td>AI Researcher</td>\n",
              "      <td>Technology</td>\n",
              "      <td>Large</td>\n",
              "      <td>Singapore</td>\n",
              "      <td>Medium</td>\n",
              "      <td>High</td>\n",
              "      <td>UX/UI Design</td>\n",
              "      <td>107170.263069</td>\n",
              "      <td>Yes</td>\n",
              "      <td>Growth</td>\n",
              "    </tr>\n",
              "    <tr>\n",
              "      <th>3</th>\n",
              "      <td>Sales Manager</td>\n",
              "      <td>Retail</td>\n",
              "      <td>Small</td>\n",
              "      <td>Berlin</td>\n",
              "      <td>Low</td>\n",
              "      <td>High</td>\n",
              "      <td>Project Management</td>\n",
              "      <td>93027.953758</td>\n",
              "      <td>No</td>\n",
              "      <td>Growth</td>\n",
              "    </tr>\n",
              "    <tr>\n",
              "      <th>4</th>\n",
              "      <td>Cybersecurity Analyst</td>\n",
              "      <td>Entertainment</td>\n",
              "      <td>Small</td>\n",
              "      <td>Tokyo</td>\n",
              "      <td>Low</td>\n",
              "      <td>Low</td>\n",
              "      <td>JavaScript</td>\n",
              "      <td>87752.922171</td>\n",
              "      <td>Yes</td>\n",
              "      <td>Decline</td>\n",
              "    </tr>\n",
              "    <tr>\n",
              "      <th>5</th>\n",
              "      <td>UX Designer</td>\n",
              "      <td>Education</td>\n",
              "      <td>Large</td>\n",
              "      <td>San Francisco</td>\n",
              "      <td>Medium</td>\n",
              "      <td>Medium</td>\n",
              "      <td>Cybersecurity</td>\n",
              "      <td>102825.007867</td>\n",
              "      <td>No</td>\n",
              "      <td>Growth</td>\n",
              "    </tr>\n",
              "    <tr>\n",
              "      <th>6</th>\n",
              "      <td>HR Manager</td>\n",
              "      <td>Finance</td>\n",
              "      <td>Medium</td>\n",
              "      <td>Singapore</td>\n",
              "      <td>Low</td>\n",
              "      <td>High</td>\n",
              "      <td>Sales</td>\n",
              "      <td>102065.720673</td>\n",
              "      <td>Yes</td>\n",
              "      <td>Growth</td>\n",
              "    </tr>\n",
              "    <tr>\n",
              "      <th>7</th>\n",
              "      <td>Cybersecurity Analyst</td>\n",
              "      <td>Technology</td>\n",
              "      <td>Small</td>\n",
              "      <td>Dubai</td>\n",
              "      <td>Medium</td>\n",
              "      <td>Low</td>\n",
              "      <td>Machine Learning</td>\n",
              "      <td>86607.317618</td>\n",
              "      <td>Yes</td>\n",
              "      <td>Decline</td>\n",
              "    </tr>\n",
              "    <tr>\n",
              "      <th>8</th>\n",
              "      <td>AI Researcher</td>\n",
              "      <td>Retail</td>\n",
              "      <td>Large</td>\n",
              "      <td>London</td>\n",
              "      <td>High</td>\n",
              "      <td>Low</td>\n",
              "      <td>JavaScript</td>\n",
              "      <td>75015.860846</td>\n",
              "      <td>No</td>\n",
              "      <td>Stable</td>\n",
              "    </tr>\n",
              "    <tr>\n",
              "      <th>9</th>\n",
              "      <td>Sales Manager</td>\n",
              "      <td>Entertainment</td>\n",
              "      <td>Medium</td>\n",
              "      <td>Singapore</td>\n",
              "      <td>High</td>\n",
              "      <td>Low</td>\n",
              "      <td>Cybersecurity</td>\n",
              "      <td>96834.578295</td>\n",
              "      <td>Yes</td>\n",
              "      <td>Decline</td>\n",
              "    </tr>\n",
              "  </tbody>\n",
              "</table>\n",
              "</div>"
            ],
            "text/plain": [
              "               Job_Title       Industry Company_Size       Location  \\\n",
              "0  Cybersecurity Analyst  Entertainment        Small          Dubai   \n",
              "1   Marketing Specialist     Technology        Large      Singapore   \n",
              "2          AI Researcher     Technology        Large      Singapore   \n",
              "3          Sales Manager         Retail        Small         Berlin   \n",
              "4  Cybersecurity Analyst  Entertainment        Small          Tokyo   \n",
              "5            UX Designer      Education        Large  San Francisco   \n",
              "6             HR Manager        Finance       Medium      Singapore   \n",
              "7  Cybersecurity Analyst     Technology        Small          Dubai   \n",
              "8          AI Researcher         Retail        Large         London   \n",
              "9          Sales Manager  Entertainment       Medium      Singapore   \n",
              "\n",
              "  AI_Adoption_Level Automation_Risk     Required_Skills     Salary_USD  \\\n",
              "0            Medium            High        UX/UI Design  111392.165243   \n",
              "1            Medium            High           Marketing   93792.562466   \n",
              "2            Medium            High        UX/UI Design  107170.263069   \n",
              "3               Low            High  Project Management   93027.953758   \n",
              "4               Low             Low          JavaScript   87752.922171   \n",
              "5            Medium          Medium       Cybersecurity  102825.007867   \n",
              "6               Low            High               Sales  102065.720673   \n",
              "7            Medium             Low    Machine Learning   86607.317618   \n",
              "8              High             Low          JavaScript   75015.860846   \n",
              "9              High             Low       Cybersecurity   96834.578295   \n",
              "\n",
              "  Remote_Friendly Job_Growth_Projection  \n",
              "0             Yes                Growth  \n",
              "1              No               Decline  \n",
              "2             Yes                Growth  \n",
              "3              No                Growth  \n",
              "4             Yes               Decline  \n",
              "5              No                Growth  \n",
              "6             Yes                Growth  \n",
              "7             Yes               Decline  \n",
              "8              No                Stable  \n",
              "9             Yes               Decline  "
            ]
          },
          "metadata": {},
          "output_type": "display_data"
        },
        {
          "name": "stdout",
          "output_type": "stream",
          "text": [
            "\n"
          ]
        },
        {
          "data": {
            "text/html": [
              "<div>\n",
              "<style scoped>\n",
              "    .dataframe tbody tr th:only-of-type {\n",
              "        vertical-align: middle;\n",
              "    }\n",
              "\n",
              "    .dataframe tbody tr th {\n",
              "        vertical-align: top;\n",
              "    }\n",
              "\n",
              "    .dataframe thead th {\n",
              "        text-align: right;\n",
              "    }\n",
              "</style>\n",
              "<table border=\"1\" class=\"dataframe\">\n",
              "  <thead>\n",
              "    <tr style=\"text-align: right;\">\n",
              "      <th></th>\n",
              "      <th>Job_Title</th>\n",
              "      <th>Industry</th>\n",
              "      <th>Company_Size</th>\n",
              "      <th>Location</th>\n",
              "      <th>AI_Adoption_Level</th>\n",
              "      <th>Automation_Risk</th>\n",
              "      <th>Required_Skills</th>\n",
              "      <th>Salary_USD</th>\n",
              "      <th>Remote_Friendly</th>\n",
              "      <th>Job_Growth_Projection</th>\n",
              "    </tr>\n",
              "  </thead>\n",
              "  <tbody>\n",
              "    <tr>\n",
              "      <th>490</th>\n",
              "      <td>Data Scientist</td>\n",
              "      <td>Energy</td>\n",
              "      <td>Large</td>\n",
              "      <td>Sydney</td>\n",
              "      <td>Medium</td>\n",
              "      <td>Low</td>\n",
              "      <td>Cybersecurity</td>\n",
              "      <td>95170.438294</td>\n",
              "      <td>Yes</td>\n",
              "      <td>Decline</td>\n",
              "    </tr>\n",
              "    <tr>\n",
              "      <th>491</th>\n",
              "      <td>Cybersecurity Analyst</td>\n",
              "      <td>Education</td>\n",
              "      <td>Medium</td>\n",
              "      <td>London</td>\n",
              "      <td>Low</td>\n",
              "      <td>High</td>\n",
              "      <td>Data Analysis</td>\n",
              "      <td>90764.668704</td>\n",
              "      <td>No</td>\n",
              "      <td>Decline</td>\n",
              "    </tr>\n",
              "    <tr>\n",
              "      <th>492</th>\n",
              "      <td>AI Researcher</td>\n",
              "      <td>Education</td>\n",
              "      <td>Large</td>\n",
              "      <td>San Francisco</td>\n",
              "      <td>Low</td>\n",
              "      <td>Medium</td>\n",
              "      <td>Cybersecurity</td>\n",
              "      <td>119961.891251</td>\n",
              "      <td>No</td>\n",
              "      <td>Growth</td>\n",
              "    </tr>\n",
              "    <tr>\n",
              "      <th>493</th>\n",
              "      <td>Cybersecurity Analyst</td>\n",
              "      <td>Energy</td>\n",
              "      <td>Medium</td>\n",
              "      <td>Berlin</td>\n",
              "      <td>Medium</td>\n",
              "      <td>High</td>\n",
              "      <td>UX/UI Design</td>\n",
              "      <td>79936.875359</td>\n",
              "      <td>No</td>\n",
              "      <td>Decline</td>\n",
              "    </tr>\n",
              "    <tr>\n",
              "      <th>494</th>\n",
              "      <td>Sales Manager</td>\n",
              "      <td>Transportation</td>\n",
              "      <td>Medium</td>\n",
              "      <td>Tokyo</td>\n",
              "      <td>Medium</td>\n",
              "      <td>High</td>\n",
              "      <td>Sales</td>\n",
              "      <td>97622.960933</td>\n",
              "      <td>Yes</td>\n",
              "      <td>Growth</td>\n",
              "    </tr>\n",
              "    <tr>\n",
              "      <th>495</th>\n",
              "      <td>Data Scientist</td>\n",
              "      <td>Telecommunications</td>\n",
              "      <td>Medium</td>\n",
              "      <td>Berlin</td>\n",
              "      <td>Low</td>\n",
              "      <td>Medium</td>\n",
              "      <td>Machine Learning</td>\n",
              "      <td>105821.394046</td>\n",
              "      <td>Yes</td>\n",
              "      <td>Stable</td>\n",
              "    </tr>\n",
              "    <tr>\n",
              "      <th>496</th>\n",
              "      <td>Cybersecurity Analyst</td>\n",
              "      <td>Telecommunications</td>\n",
              "      <td>Small</td>\n",
              "      <td>London</td>\n",
              "      <td>Low</td>\n",
              "      <td>High</td>\n",
              "      <td>UX/UI Design</td>\n",
              "      <td>119794.992146</td>\n",
              "      <td>No</td>\n",
              "      <td>Decline</td>\n",
              "    </tr>\n",
              "    <tr>\n",
              "      <th>497</th>\n",
              "      <td>Cybersecurity Analyst</td>\n",
              "      <td>Energy</td>\n",
              "      <td>Large</td>\n",
              "      <td>Dubai</td>\n",
              "      <td>High</td>\n",
              "      <td>Low</td>\n",
              "      <td>UX/UI Design</td>\n",
              "      <td>79644.933099</td>\n",
              "      <td>Yes</td>\n",
              "      <td>Stable</td>\n",
              "    </tr>\n",
              "    <tr>\n",
              "      <th>498</th>\n",
              "      <td>Operations Manager</td>\n",
              "      <td>Healthcare</td>\n",
              "      <td>Large</td>\n",
              "      <td>Paris</td>\n",
              "      <td>High</td>\n",
              "      <td>Low</td>\n",
              "      <td>Python</td>\n",
              "      <td>77642.150625</td>\n",
              "      <td>Yes</td>\n",
              "      <td>Stable</td>\n",
              "    </tr>\n",
              "    <tr>\n",
              "      <th>499</th>\n",
              "      <td>HR Manager</td>\n",
              "      <td>Entertainment</td>\n",
              "      <td>Medium</td>\n",
              "      <td>Berlin</td>\n",
              "      <td>Medium</td>\n",
              "      <td>High</td>\n",
              "      <td>Project Management</td>\n",
              "      <td>68764.378921</td>\n",
              "      <td>Yes</td>\n",
              "      <td>Decline</td>\n",
              "    </tr>\n",
              "  </tbody>\n",
              "</table>\n",
              "</div>"
            ],
            "text/plain": [
              "                 Job_Title            Industry Company_Size       Location  \\\n",
              "490         Data Scientist              Energy        Large         Sydney   \n",
              "491  Cybersecurity Analyst           Education       Medium         London   \n",
              "492          AI Researcher           Education        Large  San Francisco   \n",
              "493  Cybersecurity Analyst              Energy       Medium         Berlin   \n",
              "494          Sales Manager      Transportation       Medium          Tokyo   \n",
              "495         Data Scientist  Telecommunications       Medium         Berlin   \n",
              "496  Cybersecurity Analyst  Telecommunications        Small         London   \n",
              "497  Cybersecurity Analyst              Energy        Large          Dubai   \n",
              "498     Operations Manager          Healthcare        Large          Paris   \n",
              "499             HR Manager       Entertainment       Medium         Berlin   \n",
              "\n",
              "    AI_Adoption_Level Automation_Risk     Required_Skills     Salary_USD  \\\n",
              "490            Medium             Low       Cybersecurity   95170.438294   \n",
              "491               Low            High       Data Analysis   90764.668704   \n",
              "492               Low          Medium       Cybersecurity  119961.891251   \n",
              "493            Medium            High        UX/UI Design   79936.875359   \n",
              "494            Medium            High               Sales   97622.960933   \n",
              "495               Low          Medium    Machine Learning  105821.394046   \n",
              "496               Low            High        UX/UI Design  119794.992146   \n",
              "497              High             Low        UX/UI Design   79644.933099   \n",
              "498              High             Low              Python   77642.150625   \n",
              "499            Medium            High  Project Management   68764.378921   \n",
              "\n",
              "    Remote_Friendly Job_Growth_Projection  \n",
              "490             Yes               Decline  \n",
              "491              No               Decline  \n",
              "492              No                Growth  \n",
              "493              No               Decline  \n",
              "494             Yes                Growth  \n",
              "495             Yes                Stable  \n",
              "496              No               Decline  \n",
              "497             Yes                Stable  \n",
              "498             Yes                Stable  \n",
              "499             Yes               Decline  "
            ]
          },
          "metadata": {},
          "output_type": "display_data"
        }
      ],
      "source": [
        "#LOAD AND LIST\n",
        "import pandas as pd\n",
        "import numpy as np\n",
        "import matplotlib.pyplot as plt\n",
        "import seaborn as sns\n",
        "\n",
        "df = pd.read_csv('ai_job_market_insights.csv')\n",
        "display(df.head(10))\n",
        "print()\n",
        "display(df.tail(10))"
      ]
    },
    {
      "cell_type": "code",
      "execution_count": 4,
      "metadata": {
        "colab": {
          "base_uri": "https://localhost:8080/",
          "height": 325
        },
        "id": "NtYYwAhhmBfO",
        "outputId": "047e5348-2d49-4e5e-f60c-68a301701ab4"
      },
      "outputs": [
        {
          "data": {
            "text/plain": [
              "(500, 10)"
            ]
          },
          "metadata": {},
          "output_type": "display_data"
        },
        {
          "name": "stdout",
          "output_type": "stream",
          "text": [
            "\n"
          ]
        },
        {
          "data": {
            "text/plain": [
              "Index(['Job_Title', 'Industry', 'Company_Size', 'Location',\n",
              "       'AI_Adoption_Level', 'Automation_Risk', 'Required_Skills', 'Salary_USD',\n",
              "       'Remote_Friendly', 'Job_Growth_Projection'],\n",
              "      dtype='object')"
            ]
          },
          "metadata": {},
          "output_type": "display_data"
        },
        {
          "name": "stdout",
          "output_type": "stream",
          "text": [
            "\n"
          ]
        },
        {
          "data": {
            "text/plain": [
              "<bound method DataFrame.info of                  Job_Title            Industry Company_Size   Location  \\\n",
              "0    Cybersecurity Analyst       Entertainment        Small      Dubai   \n",
              "1     Marketing Specialist          Technology        Large  Singapore   \n",
              "2            AI Researcher          Technology        Large  Singapore   \n",
              "3            Sales Manager              Retail        Small     Berlin   \n",
              "4    Cybersecurity Analyst       Entertainment        Small      Tokyo   \n",
              "..                     ...                 ...          ...        ...   \n",
              "495         Data Scientist  Telecommunications       Medium     Berlin   \n",
              "496  Cybersecurity Analyst  Telecommunications        Small     London   \n",
              "497  Cybersecurity Analyst              Energy        Large      Dubai   \n",
              "498     Operations Manager          Healthcare        Large      Paris   \n",
              "499             HR Manager       Entertainment       Medium     Berlin   \n",
              "\n",
              "    AI_Adoption_Level Automation_Risk     Required_Skills     Salary_USD  \\\n",
              "0              Medium            High        UX/UI Design  111392.165243   \n",
              "1              Medium            High           Marketing   93792.562466   \n",
              "2              Medium            High        UX/UI Design  107170.263069   \n",
              "3                 Low            High  Project Management   93027.953758   \n",
              "4                 Low             Low          JavaScript   87752.922171   \n",
              "..                ...             ...                 ...            ...   \n",
              "495               Low          Medium    Machine Learning  105821.394046   \n",
              "496               Low            High        UX/UI Design  119794.992146   \n",
              "497              High             Low        UX/UI Design   79644.933099   \n",
              "498              High             Low              Python   77642.150625   \n",
              "499            Medium            High  Project Management   68764.378921   \n",
              "\n",
              "    Remote_Friendly Job_Growth_Projection  \n",
              "0               Yes                Growth  \n",
              "1                No               Decline  \n",
              "2               Yes                Growth  \n",
              "3                No                Growth  \n",
              "4               Yes               Decline  \n",
              "..              ...                   ...  \n",
              "495             Yes                Stable  \n",
              "496              No               Decline  \n",
              "497             Yes                Stable  \n",
              "498             Yes                Stable  \n",
              "499             Yes               Decline  \n",
              "\n",
              "[500 rows x 10 columns]>"
            ]
          },
          "metadata": {},
          "output_type": "display_data"
        }
      ],
      "source": [
        "#SHAPE AND COLUMNS AND INFO\n",
        "display(df.shape)\n",
        "print()\n",
        "display(df.columns)\n",
        "print()\n",
        "display(df.info)"
      ]
    },
    {
      "cell_type": "markdown",
      "metadata": {
        "id": "58OyrGT_oK2_"
      },
      "source": [
        "Summary Statistics"
      ]
    },
    {
      "cell_type": "code",
      "execution_count": 5,
      "metadata": {
        "colab": {
          "base_uri": "https://localhost:8080/",
          "height": 186
        },
        "id": "lCfB7Ydjn3PE",
        "outputId": "90815932-3529-48ac-aa53-e4b798812e36"
      },
      "outputs": [
        {
          "data": {
            "text/plain": [
              "<bound method NDFrame.describe of                  Job_Title            Industry Company_Size   Location  \\\n",
              "0    Cybersecurity Analyst       Entertainment        Small      Dubai   \n",
              "1     Marketing Specialist          Technology        Large  Singapore   \n",
              "2            AI Researcher          Technology        Large  Singapore   \n",
              "3            Sales Manager              Retail        Small     Berlin   \n",
              "4    Cybersecurity Analyst       Entertainment        Small      Tokyo   \n",
              "..                     ...                 ...          ...        ...   \n",
              "495         Data Scientist  Telecommunications       Medium     Berlin   \n",
              "496  Cybersecurity Analyst  Telecommunications        Small     London   \n",
              "497  Cybersecurity Analyst              Energy        Large      Dubai   \n",
              "498     Operations Manager          Healthcare        Large      Paris   \n",
              "499             HR Manager       Entertainment       Medium     Berlin   \n",
              "\n",
              "    AI_Adoption_Level Automation_Risk     Required_Skills     Salary_USD  \\\n",
              "0              Medium            High        UX/UI Design  111392.165243   \n",
              "1              Medium            High           Marketing   93792.562466   \n",
              "2              Medium            High        UX/UI Design  107170.263069   \n",
              "3                 Low            High  Project Management   93027.953758   \n",
              "4                 Low             Low          JavaScript   87752.922171   \n",
              "..                ...             ...                 ...            ...   \n",
              "495               Low          Medium    Machine Learning  105821.394046   \n",
              "496               Low            High        UX/UI Design  119794.992146   \n",
              "497              High             Low        UX/UI Design   79644.933099   \n",
              "498              High             Low              Python   77642.150625   \n",
              "499            Medium            High  Project Management   68764.378921   \n",
              "\n",
              "    Remote_Friendly Job_Growth_Projection  \n",
              "0               Yes                Growth  \n",
              "1                No               Decline  \n",
              "2               Yes                Growth  \n",
              "3                No                Growth  \n",
              "4               Yes               Decline  \n",
              "..              ...                   ...  \n",
              "495             Yes                Stable  \n",
              "496              No               Decline  \n",
              "497             Yes                Stable  \n",
              "498             Yes                Stable  \n",
              "499             Yes               Decline  \n",
              "\n",
              "[500 rows x 10 columns]>"
            ]
          },
          "metadata": {},
          "output_type": "display_data"
        }
      ],
      "source": [
        "#DESCRIBE\n",
        "display(df.describe)"
      ]
    },
    {
      "cell_type": "code",
      "execution_count": 6,
      "metadata": {
        "colab": {
          "base_uri": "https://localhost:8080/",
          "height": 104
        },
        "id": "Up0kqyuborSc",
        "outputId": "501935bf-6c37-4b01-c771-1d7f66718be4"
      },
      "outputs": [
        {
          "data": {
            "text/plain": [
              "np.float64(91222.39097411344)"
            ]
          },
          "metadata": {},
          "output_type": "display_data"
        },
        {
          "name": "stdout",
          "output_type": "stream",
          "text": [
            "\n"
          ]
        },
        {
          "data": {
            "text/plain": [
              "np.float64(91998.19528620754)"
            ]
          },
          "metadata": {},
          "output_type": "display_data"
        },
        {
          "name": "stdout",
          "output_type": "stream",
          "text": [
            "\n"
          ]
        },
        {
          "data": {
            "text/plain": [
              "np.float64(31969.52634612842)"
            ]
          },
          "metadata": {},
          "output_type": "display_data"
        }
      ],
      "source": [
        "#MEAN , MEDIAN , MODE OF SALARY\n",
        "display(df['Salary_USD'].mean())\n",
        "print()\n",
        "display(df['Salary_USD'].median())\n",
        "print()\n",
        "display(df['Salary_USD'].mode()[0])"
      ]
    },
    {
      "cell_type": "code",
      "execution_count": 7,
      "metadata": {
        "colab": {
          "base_uri": "https://localhost:8080/",
          "height": 934
        },
        "id": "RKGNaeihpE4h",
        "outputId": "943e76f4-7d32-4f66-e17c-fe11dce8bc31"
      },
      "outputs": [
        {
          "data": {
            "text/plain": [
              "np.float64(31969.52634612842)"
            ]
          },
          "metadata": {},
          "output_type": "display_data"
        },
        {
          "name": "stdout",
          "output_type": "stream",
          "text": [
            "\n"
          ]
        },
        {
          "data": {
            "text/plain": [
              "np.float64(155209.82161382848)"
            ]
          },
          "metadata": {},
          "output_type": "display_data"
        },
        {
          "name": "stdout",
          "output_type": "stream",
          "text": [
            "\n"
          ]
        },
        {
          "data": {
            "text/plain": [
              "Job_Title                Data Scientist\n",
              "Industry                 Transportation\n",
              "Company_Size                      Small\n",
              "Location                       New York\n",
              "AI_Adoption_Level                   Low\n",
              "Automation_Risk                     Low\n",
              "Required_Skills                  Python\n",
              "Salary_USD                 31969.526346\n",
              "Remote_Friendly                     Yes\n",
              "Job_Growth_Projection            Growth\n",
              "Name: 182, dtype: object"
            ]
          },
          "metadata": {},
          "output_type": "display_data"
        },
        {
          "name": "stdout",
          "output_type": "stream",
          "text": [
            "\n"
          ]
        },
        {
          "data": {
            "text/plain": [
              "Job_Title                Marketing Specialist\n",
              "Industry                              Finance\n",
              "Company_Size                           Medium\n",
              "Location                        San Francisco\n",
              "AI_Adoption_Level                        High\n",
              "Automation_Risk                          High\n",
              "Required_Skills                         Sales\n",
              "Salary_USD                      155209.821614\n",
              "Remote_Friendly                           Yes\n",
              "Job_Growth_Projection                 Decline\n",
              "Name: 420, dtype: object"
            ]
          },
          "metadata": {},
          "output_type": "display_data"
        },
        {
          "name": "stdout",
          "output_type": "stream",
          "text": [
            "\n"
          ]
        },
        {
          "data": {
            "text/plain": [
              "np.float64(20504.291453477774)"
            ]
          },
          "metadata": {},
          "output_type": "display_data"
        },
        {
          "name": "stdout",
          "output_type": "stream",
          "text": [
            "\n"
          ]
        },
        {
          "data": {
            "text/plain": [
              "np.float64(420425968.00916165)"
            ]
          },
          "metadata": {},
          "output_type": "display_data"
        }
      ],
      "source": [
        "#MIN , MAX , STD , VAR\n",
        "display(df['Salary_USD'].min())\n",
        "print()\n",
        "display(df['Salary_USD'].max())\n",
        "print()\n",
        "display(df.loc[df['Salary_USD'].idxmin()])\n",
        "print()\n",
        "display(df.loc[df['Salary_USD'].idxmax()])\n",
        "print()\n",
        "display(df['Salary_USD'].std())\n",
        "print()\n",
        "display(df['Salary_USD'].var())"
      ]
    },
    {
      "cell_type": "code",
      "execution_count": 8,
      "metadata": {
        "colab": {
          "base_uri": "https://localhost:8080/"
        },
        "id": "072f8750",
        "outputId": "f0d62fdc-f7ce-4d9c-d379-69271199065c"
      },
      "outputs": [
        {
          "name": "stdout",
          "output_type": "stream",
          "text": [
            "Value counts for 'Job_Title':\n",
            "Job_Title\n",
            "Data Scientist           62\n",
            "HR Manager               57\n",
            "Cybersecurity Analyst    55\n",
            "UX Designer              54\n",
            "AI Researcher            51\n",
            "Sales Manager            49\n",
            "Marketing Specialist     48\n",
            "Operations Manager       44\n",
            "Software Engineer        41\n",
            "Product Manager          39\n",
            "Name: count, dtype: int64\n",
            "----------------------------------------\n",
            "Value counts for 'Industry':\n",
            "Industry\n",
            "Manufacturing         58\n",
            "Education             57\n",
            "Technology            56\n",
            "Telecommunications    53\n",
            "Finance               53\n",
            "Energy                49\n",
            "Entertainment         47\n",
            "Retail                46\n",
            "Healthcare            42\n",
            "Transportation        39\n",
            "Name: count, dtype: int64\n",
            "----------------------------------------\n",
            "Value counts for 'Company_Size':\n",
            "Company_Size\n",
            "Small     171\n",
            "Large     166\n",
            "Medium    163\n",
            "Name: count, dtype: int64\n",
            "----------------------------------------\n",
            "Value counts for 'Location':\n",
            "Location\n",
            "San Francisco    62\n",
            "Singapore        54\n",
            "Sydney           52\n",
            "Dubai            51\n",
            "Tokyo            51\n",
            "New York         49\n",
            "Berlin           48\n",
            "London           46\n",
            "Paris            46\n",
            "Toronto          41\n",
            "Name: count, dtype: int64\n",
            "----------------------------------------\n",
            "Value counts for 'AI_Adoption_Level':\n",
            "AI_Adoption_Level\n",
            "Medium    179\n",
            "Low       174\n",
            "High      147\n",
            "Name: count, dtype: int64\n",
            "----------------------------------------\n",
            "Value counts for 'Automation_Risk':\n",
            "Automation_Risk\n",
            "Medium    173\n",
            "High      169\n",
            "Low       158\n",
            "Name: count, dtype: int64\n",
            "----------------------------------------\n",
            "Value counts for 'Required_Skills':\n",
            "Required_Skills\n",
            "Python                60\n",
            "Project Management    60\n",
            "Cybersecurity         58\n",
            "Machine Learning      52\n",
            "Data Analysis         49\n",
            "UX/UI Design          49\n",
            "Sales                 49\n",
            "Marketing             45\n",
            "JavaScript            44\n",
            "Communication         34\n",
            "Name: count, dtype: int64\n",
            "----------------------------------------\n",
            "Value counts for 'Remote_Friendly':\n",
            "Remote_Friendly\n",
            "Yes    251\n",
            "No     249\n",
            "Name: count, dtype: int64\n",
            "----------------------------------------\n",
            "Value counts for 'Job_Growth_Projection':\n",
            "Job_Growth_Projection\n",
            "Growth     169\n",
            "Decline    169\n",
            "Stable     162\n",
            "Name: count, dtype: int64\n",
            "----------------------------------------\n"
          ]
        }
      ],
      "source": [
        "#Value counts for categorical columns\n",
        "categorical_cols = df.select_dtypes(include=['object']).columns\n",
        "for col in categorical_cols:\n",
        "    print(f\"Value counts for '{col}':\")\n",
        "    print(df[col].value_counts())\n",
        "    print(\"-\" * 40)\n"
      ]
    },
    {
      "cell_type": "markdown",
      "metadata": {
        "id": "70lCRoIUroVx"
      },
      "source": [
        "Missing Value Analysis"
      ]
    },
    {
      "cell_type": "code",
      "execution_count": 9,
      "metadata": {
        "colab": {
          "base_uri": "https://localhost:8080/",
          "height": 203
        },
        "id": "Yw1_bpYvrkdj",
        "outputId": "babfee90-82f3-448a-d4c6-8a78e89bb84e"
      },
      "outputs": [
        {
          "data": {
            "text/plain": [
              "<bound method DataFrame.sum of      Job_Title  Industry  Company_Size  Location  AI_Adoption_Level  \\\n",
              "0        False     False         False     False              False   \n",
              "1        False     False         False     False              False   \n",
              "2        False     False         False     False              False   \n",
              "3        False     False         False     False              False   \n",
              "4        False     False         False     False              False   \n",
              "..         ...       ...           ...       ...                ...   \n",
              "495      False     False         False     False              False   \n",
              "496      False     False         False     False              False   \n",
              "497      False     False         False     False              False   \n",
              "498      False     False         False     False              False   \n",
              "499      False     False         False     False              False   \n",
              "\n",
              "     Automation_Risk  Required_Skills  Salary_USD  Remote_Friendly  \\\n",
              "0              False            False       False            False   \n",
              "1              False            False       False            False   \n",
              "2              False            False       False            False   \n",
              "3              False            False       False            False   \n",
              "4              False            False       False            False   \n",
              "..               ...              ...         ...              ...   \n",
              "495            False            False       False            False   \n",
              "496            False            False       False            False   \n",
              "497            False            False       False            False   \n",
              "498            False            False       False            False   \n",
              "499            False            False       False            False   \n",
              "\n",
              "     Job_Growth_Projection  \n",
              "0                    False  \n",
              "1                    False  \n",
              "2                    False  \n",
              "3                    False  \n",
              "4                    False  \n",
              "..                     ...  \n",
              "495                  False  \n",
              "496                  False  \n",
              "497                  False  \n",
              "498                  False  \n",
              "499                  False  \n",
              "\n",
              "[500 rows x 10 columns]>"
            ]
          },
          "execution_count": 9,
          "metadata": {},
          "output_type": "execute_result"
        }
      ],
      "source": [
        "#Count missing values per column.\n",
        "df.isnull().sum"
      ]
    },
    {
      "cell_type": "code",
      "execution_count": 10,
      "metadata": {
        "colab": {
          "base_uri": "https://localhost:8080/",
          "height": 397
        },
        "id": "iUAcMK4STf-q",
        "outputId": "f44c1499-8ba9-463b-f017-1120c2dfd1e9"
      },
      "outputs": [
        {
          "data": {
            "text/plain": [
              "Job_Title                0.0\n",
              "Industry                 0.0\n",
              "Company_Size             0.0\n",
              "Location                 0.0\n",
              "AI_Adoption_Level        0.0\n",
              "Automation_Risk          0.0\n",
              "Required_Skills          0.0\n",
              "Salary_USD               0.0\n",
              "Remote_Friendly          0.0\n",
              "Job_Growth_Projection    0.0\n",
              "dtype: float64"
            ]
          },
          "execution_count": 10,
          "metadata": {},
          "output_type": "execute_result"
        }
      ],
      "source": [
        "#Percentage missing per column.\n",
        "(df.isnull().mean() * 100).round(2)"
      ]
    },
    {
      "cell_type": "code",
      "execution_count": 11,
      "metadata": {
        "colab": {
          "base_uri": "https://localhost:8080/",
          "height": 685
        },
        "id": "-4Hc0lPxTuCD",
        "outputId": "83060707-2685-4d17-8385-1df9b751b829"
      },
      "outputs": [
        {
          "data": {
            "image/png": "[encoded data removed]",
            "text/plain": [
              "<Figure size 1000x600 with 1 Axes>"
            ]
          },
          "metadata": {},
          "output_type": "display_data"
        }
      ],
      "source": [
        "#Visualize missing data\n",
        "plt.figure(figsize=(10, 6))\n",
        "sns.heatmap(df.isnull(), cmap='viridis', cbar=False)\n",
        "plt.title('Missing Data Heatmap')\n",
        "plt.show()"
      ]
    },
    {
      "cell_type": "markdown",
      "metadata": {
        "id": "yBjt5UI4UDu7"
      },
      "source": [
        "Exploratory Visualizations"
      ]
    },
    {
      "cell_type": "code",
      "execution_count": 12,
      "metadata": {
        "colab": {
          "base_uri": "https://localhost:8080/",
          "height": 487
        },
        "id": "50_wGN2TUHEq",
        "outputId": "4510cae0-7648-4fb6-f3aa-354f35006462"
      },
      "outputs": [
        {
          "data": {
            "image/png": "[encoded data removed]",
            "text/plain": [
              "<Figure size 800x500 with 1 Axes>"
            ]
          },
          "metadata": {},
          "output_type": "display_data"
        }
      ],
      "source": [
        "#Histogram\n",
        "df['Salary_USD'].hist(bins=30, figsize=(8,5), color='black', edgecolor='grey')\n",
        "plt.xlabel('Salary')\n",
        "plt.ylabel('Frequency')\n",
        "plt.title('Salary Distribution')\n",
        "plt.show()\n"
      ]
    },
    {
      "cell_type": "code",
      "execution_count": 13,
      "metadata": {
        "colab": {
          "base_uri": "https://localhost:8080/",
          "height": 472
        },
        "id": "SlhIE6FAUlb-",
        "outputId": "5f3299c3-dc60-4aa8-f062-d47abbb2e8e9"
      },
      "outputs": [
        {
          "data": {
            "image/png": "[encoded data removed]",
            "text/plain": [
              "<Figure size 640x480 with 1 Axes>"
            ]
          },
          "metadata": {},
          "output_type": "display_data"
        }
      ],
      "source": [
        "#Boxplot\n",
        "sns.boxplot(x=df['Salary_USD'], color='black')\n",
        "plt.xlabel('Salary')\n",
        "plt.ylabel('Frequency')\n",
        "plt.title('Salary Boxplot')\n",
        "plt.show()\n"
      ]
    },
    {
      "cell_type": "code",
      "execution_count": 14,
      "metadata": {
        "colab": {
          "base_uri": "https://localhost:8080/",
          "height": 615
        },
        "id": "jwmu-fozU7ri",
        "outputId": "29c7583b-3d2e-47ba-c3d3-38643186b244"
      },
      "outputs": [
        {
          "data": {
            "image/png": "[encoded data removed]",
            "text/plain": [
              "<Figure size 1000x500 with 1 Axes>"
            ]
          },
          "metadata": {},
          "output_type": "display_data"
        }
      ],
      "source": [
        "#Barplot\n",
        "df['Industry'].value_counts().plot(kind='bar', figsize=(10,5), color='black', edgecolor='skyblue')\n",
        "plt.xlabel('Industry')\n",
        "plt.ylabel('Count')\n",
        "plt.title('Industry Count')\n",
        "plt.show()"
      ]
    },
    {
      "cell_type": "code",
      "execution_count": 15,
      "metadata": {
        "colab": {
          "base_uri": "https://localhost:8080/",
          "height": 610
        },
        "id": "b7xlWx34VMZp",
        "outputId": "1c24c4eb-8b9a-4946-c5fb-d6f21fcb4a46"
      },
      "outputs": [
        {
          "data": {
            "image/png": "[encoded data removed]",
            "text/plain": [
              "<Figure size 640x480 with 1 Axes>"
            ]
          },
          "metadata": {},
          "output_type": "display_data"
        }
      ],
      "source": [
        "#Scatterplot\n",
        "sns.scatterplot(x='Job_Title', y='Salary_USD', data=df, color='black', edgecolor='white')\n",
        "plt.title('Experience vs Salary')\n",
        "plt.xticks(rotation=90)\n",
        "plt.show()\n"
      ]
    },
    {
      "cell_type": "code",
      "execution_count": 16,
      "metadata": {
        "colab": {
          "base_uri": "https://localhost:8080/",
          "height": 545
        },
        "id": "-S5ACmamV1cE",
        "outputId": "ad074fad-f969-4f8a-9e40-52de9235cca0"
      },
      "outputs": [
        {
          "data": {
            "image/png": "[encoded data removed]",
            "text/plain": [
              "<Figure size 800x600 with 2 Axes>"
            ]
          },
          "metadata": {},
          "output_type": "display_data"
        }
      ],
      "source": [
        "#Correlation heatmap\n",
        "plt.figure(figsize=(8,6))\n",
        "numerical_df = df.select_dtypes(include=np.number)\n",
        "sns.heatmap(numerical_df.corr(), annot=True, cmap='coolwarm')\n",
        "plt.title('Correlation Heatmap')\n",
        "plt.show()"
      ]
    },
    {
      "cell_type": "markdown",
      "metadata": {
        "id": "8zQOJxuTWFfn"
      },
      "source": [
        "Outlier Detection"
      ]
    },
    {
      "cell_type": "code",
      "execution_count": 17,
      "metadata": {
        "colab": {
          "base_uri": "https://localhost:8080/",
          "height": 472
        },
        "id": "umha-KykWJIV",
        "outputId": "957873aa-cd33-4971-e36c-8898036ae4dc"
      },
      "outputs": [
        {
          "data": {
            "image/png": "[encoded data removed]",
            "text/plain": [
              "<Figure size 640x480 with 1 Axes>"
            ]
          },
          "metadata": {},
          "output_type": "display_data"
        }
      ],
      "source": [
        "#Boxplot analysis\n",
        "sns.boxplot(x=df['Salary_USD'],color='black')\n",
        "plt.xlabel('Salary')\n",
        "plt.ylabel('Frequency')\n",
        "plt.title('Boxplot of Salary')\n",
        "plt.show()\n"
      ]
    },
    {
      "cell_type": "code",
      "execution_count": 18,
      "metadata": {
        "colab": {
          "base_uri": "https://localhost:8080/",
          "height": 295
        },
        "id": "z6EOFj92WcxB",
        "outputId": "24894c8d-b1b2-4a44-e300-58a7f7a0e4a4"
      },
      "outputs": [
        {
          "data": {
            "text/html": [
              "<div>\n",
              "<style scoped>\n",
              "    .dataframe tbody tr th:only-of-type {\n",
              "        vertical-align: middle;\n",
              "    }\n",
              "\n",
              "    .dataframe tbody tr th {\n",
              "        vertical-align: top;\n",
              "    }\n",
              "\n",
              "    .dataframe thead th {\n",
              "        text-align: right;\n",
              "    }\n",
              "</style>\n",
              "<table border=\"1\" class=\"dataframe\">\n",
              "  <thead>\n",
              "    <tr style=\"text-align: right;\">\n",
              "      <th></th>\n",
              "      <th>Job_Title</th>\n",
              "      <th>Industry</th>\n",
              "      <th>Company_Size</th>\n",
              "      <th>Location</th>\n",
              "      <th>AI_Adoption_Level</th>\n",
              "      <th>Automation_Risk</th>\n",
              "      <th>Required_Skills</th>\n",
              "      <th>Salary_USD</th>\n",
              "      <th>Remote_Friendly</th>\n",
              "      <th>Job_Growth_Projection</th>\n",
              "    </tr>\n",
              "  </thead>\n",
              "  <tbody>\n",
              "    <tr>\n",
              "      <th>182</th>\n",
              "      <td>Data Scientist</td>\n",
              "      <td>Transportation</td>\n",
              "      <td>Small</td>\n",
              "      <td>New York</td>\n",
              "      <td>Low</td>\n",
              "      <td>Low</td>\n",
              "      <td>Python</td>\n",
              "      <td>31969.526346</td>\n",
              "      <td>Yes</td>\n",
              "      <td>Growth</td>\n",
              "    </tr>\n",
              "    <tr>\n",
              "      <th>289</th>\n",
              "      <td>Data Scientist</td>\n",
              "      <td>Healthcare</td>\n",
              "      <td>Medium</td>\n",
              "      <td>Paris</td>\n",
              "      <td>High</td>\n",
              "      <td>Low</td>\n",
              "      <td>Python</td>\n",
              "      <td>148467.112346</td>\n",
              "      <td>Yes</td>\n",
              "      <td>Stable</td>\n",
              "    </tr>\n",
              "    <tr>\n",
              "      <th>384</th>\n",
              "      <td>Cybersecurity Analyst</td>\n",
              "      <td>Telecommunications</td>\n",
              "      <td>Large</td>\n",
              "      <td>Berlin</td>\n",
              "      <td>Low</td>\n",
              "      <td>Medium</td>\n",
              "      <td>UX/UI Design</td>\n",
              "      <td>33601.381360</td>\n",
              "      <td>No</td>\n",
              "      <td>Stable</td>\n",
              "    </tr>\n",
              "    <tr>\n",
              "      <th>420</th>\n",
              "      <td>Marketing Specialist</td>\n",
              "      <td>Finance</td>\n",
              "      <td>Medium</td>\n",
              "      <td>San Francisco</td>\n",
              "      <td>High</td>\n",
              "      <td>High</td>\n",
              "      <td>Sales</td>\n",
              "      <td>155209.821614</td>\n",
              "      <td>Yes</td>\n",
              "      <td>Decline</td>\n",
              "    </tr>\n",
              "    <tr>\n",
              "      <th>425</th>\n",
              "      <td>UX Designer</td>\n",
              "      <td>Entertainment</td>\n",
              "      <td>Small</td>\n",
              "      <td>Singapore</td>\n",
              "      <td>Medium</td>\n",
              "      <td>Medium</td>\n",
              "      <td>Data Analysis</td>\n",
              "      <td>35963.297317</td>\n",
              "      <td>No</td>\n",
              "      <td>Decline</td>\n",
              "    </tr>\n",
              "  </tbody>\n",
              "</table>\n",
              "</div>"
            ],
            "text/plain": [
              "                 Job_Title            Industry Company_Size       Location  \\\n",
              "182         Data Scientist      Transportation        Small       New York   \n",
              "289         Data Scientist          Healthcare       Medium          Paris   \n",
              "384  Cybersecurity Analyst  Telecommunications        Large         Berlin   \n",
              "420   Marketing Specialist             Finance       Medium  San Francisco   \n",
              "425            UX Designer       Entertainment        Small      Singapore   \n",
              "\n",
              "    AI_Adoption_Level Automation_Risk Required_Skills     Salary_USD  \\\n",
              "182               Low             Low          Python   31969.526346   \n",
              "289              High             Low          Python  148467.112346   \n",
              "384               Low          Medium    UX/UI Design   33601.381360   \n",
              "420              High            High           Sales  155209.821614   \n",
              "425            Medium          Medium   Data Analysis   35963.297317   \n",
              "\n",
              "    Remote_Friendly Job_Growth_Projection  \n",
              "182             Yes                Growth  \n",
              "289             Yes                Stable  \n",
              "384              No                Stable  \n",
              "420             Yes               Decline  \n",
              "425              No               Decline  "
            ]
          },
          "execution_count": 18,
          "metadata": {},
          "output_type": "execute_result"
        }
      ],
      "source": [
        "#IQR\n",
        "Q1 = df['Salary_USD'].quantile(0.25)\n",
        "Q3 = df['Salary_USD'].quantile(0.75)\n",
        "IQR = Q3 - Q1\n",
        "\n",
        "outliers_iqr = df[(df['Salary_USD'] < (Q1 - 1.5 * IQR)) | (df['Salary_USD'] > (Q3 + 1.5 * IQR))]\n",
        "outliers_iqr.head()\n"
      ]
    },
    {
      "cell_type": "code",
      "execution_count": 19,
      "metadata": {
        "colab": {
          "base_uri": "https://localhost:8080/",
          "height": 118
        },
        "id": "BDxNzi_AWpYO",
        "outputId": "f9193e47-49b0-4447-ad39-8d98ea2586e5"
      },
      "outputs": [
        {
          "ename": "ModuleNotFoundError",
          "evalue": "No module named 'scipy'",
          "output_type": "error",
          "traceback": [
            "\u001b[1;31m---------------------------------------------------------------------------\u001b[0m",
            "\u001b[1;31mModuleNotFoundError\u001b[0m                       Traceback (most recent call last)",
            "Cell \u001b[1;32mIn[19], line 2\u001b[0m\n\u001b[0;32m      1\u001b[0m \u001b[38;5;66;03m#Z-test\u001b[39;00m\n\u001b[1;32m----> 2\u001b[0m \u001b[38;5;28;01mfrom\u001b[39;00m\u001b[38;5;250m \u001b[39m\u001b[38;5;21;01mscipy\u001b[39;00m\u001b[38;5;250m \u001b[39m\u001b[38;5;28;01mimport\u001b[39;00m stats\n\u001b[0;32m      4\u001b[0m z_scores \u001b[38;5;241m=\u001b[39m stats\u001b[38;5;241m.\u001b[39mzscore(df[\u001b[38;5;124m'\u001b[39m\u001b[38;5;124mSalary_USD\u001b[39m\u001b[38;5;124m'\u001b[39m]\u001b[38;5;241m.\u001b[39mdropna())\n\u001b[0;32m      5\u001b[0m outliers_z \u001b[38;5;241m=\u001b[39m df[np\u001b[38;5;241m.\u001b[39mabs(z_scores) \u001b[38;5;241m>\u001b[39m \u001b[38;5;241m3\u001b[39m]\n",
            "\u001b[1;31mModuleNotFoundError\u001b[0m: No module named 'scipy'"
          ]
        }
      ],
      "source": [
        "#Z-test\n",
        "from scipy import stats\n",
        "\n",
        "z_scores = stats.zscore(df['Salary_USD'].dropna())\n",
        "outliers_z = df[np.abs(z_scores) > 3]\n",
        "outliers_z().head()"
      ]
    },
    {
      "cell_type": "markdown",
      "metadata": {
        "id": "kzFMI3oOWx7t"
      },
      "source": [
        "Unique Values & Categories"
      ]
    },
    {
      "cell_type": "code",
      "execution_count": null,
      "metadata": {
        "colab": {
          "base_uri": "https://localhost:8080/",
          "height": 397
        },
        "id": "Q_CxHbI9W2ch",
        "outputId": "f1bd8b50-e824-47c7-aeb5-05f835f2cefc"
      },
      "outputs": [
        {
          "data": {
            "text/html": [
              "<div>\n",
              "<style scoped>\n",
              "    .dataframe tbody tr th:only-of-type {\n",
              "        vertical-align: middle;\n",
              "    }\n",
              "\n",
              "    .dataframe tbody tr th {\n",
              "        vertical-align: top;\n",
              "    }\n",
              "\n",
              "    .dataframe thead th {\n",
              "        text-align: right;\n",
              "    }\n",
              "</style>\n",
              "<table border=\"1\" class=\"dataframe\">\n",
              "  <thead>\n",
              "    <tr style=\"text-align: right;\">\n",
              "      <th></th>\n",
              "      <th>0</th>\n",
              "    </tr>\n",
              "  </thead>\n",
              "  <tbody>\n",
              "    <tr>\n",
              "      <th>Job_Title</th>\n",
              "      <td>10</td>\n",
              "    </tr>\n",
              "    <tr>\n",
              "      <th>Industry</th>\n",
              "      <td>10</td>\n",
              "    </tr>\n",
              "    <tr>\n",
              "      <th>Company_Size</th>\n",
              "      <td>3</td>\n",
              "    </tr>\n",
              "    <tr>\n",
              "      <th>Location</th>\n",
              "      <td>10</td>\n",
              "    </tr>\n",
              "    <tr>\n",
              "      <th>AI_Adoption_Level</th>\n",
              "      <td>3</td>\n",
              "    </tr>\n",
              "    <tr>\n",
              "      <th>Automation_Risk</th>\n",
              "      <td>3</td>\n",
              "    </tr>\n",
              "    <tr>\n",
              "      <th>Required_Skills</th>\n",
              "      <td>10</td>\n",
              "    </tr>\n",
              "    <tr>\n",
              "      <th>Salary_USD</th>\n",
              "      <td>500</td>\n",
              "    </tr>\n",
              "    <tr>\n",
              "      <th>Remote_Friendly</th>\n",
              "      <td>2</td>\n",
              "    </tr>\n",
              "    <tr>\n",
              "      <th>Job_Growth_Projection</th>\n",
              "      <td>3</td>\n",
              "    </tr>\n",
              "  </tbody>\n",
              "</table>\n",
              "</div><br><label><b>dtype:</b> int64</label>"
            ],
            "text/plain": [
              "Job_Title                 10\n",
              "Industry                  10\n",
              "Company_Size               3\n",
              "Location                  10\n",
              "AI_Adoption_Level          3\n",
              "Automation_Risk            3\n",
              "Required_Skills           10\n",
              "Salary_USD               500\n",
              "Remote_Friendly            2\n",
              "Job_Growth_Projection      3\n",
              "dtype: int64"
            ]
          },
          "execution_count": 21,
          "metadata": {},
          "output_type": "execute_result"
        }
      ],
      "source": [
        "#Unique values per column\n",
        "df.nunique()"
      ]
    },
    {
      "cell_type": "code",
      "execution_count": null,
      "metadata": {
        "colab": {
          "base_uri": "https://localhost:8080/"
        },
        "id": "cz_urMQuXJqA",
        "outputId": "d3ef01d2-f2bf-4bd9-baaf-ac1057d14fe6"
      },
      "outputs": [
        {
          "data": {
            "text/plain": [
              "array([111392.16524316,  93792.56246611, 107170.26306895,  93027.95375786,\n",
              "        87752.92217059, 102825.00786657, 102065.72067348,  86607.3176181 ,\n",
              "        75015.86084571,  96834.57829481,  91566.97337925,  78902.56574458,\n",
              "        73151.99034926,  98209.51687789, 101001.90114055,  82799.3577069 ,\n",
              "        78401.25928174,  73394.89621926,  97645.0987829 ,  73920.45852719,\n",
              "       134822.69138041,  81794.37128058,  41495.71444255,  89396.56666742,\n",
              "        88539.33040362, 112234.37135048,  95762.52473455,  73323.2963312 ,\n",
              "        84272.16253006,  96548.39543302,  46705.71499379, 116772.43468781,\n",
              "        73376.60228391, 118340.87641895,  97849.30282253, 102591.88272788,\n",
              "       112988.46872003, 101462.64105385, 103457.72432635,  86711.67119077,\n",
              "        97443.37362944,  78250.04370057,  83131.77800824, 129293.90095938,\n",
              "        73836.12829899,  93086.34253273,  92269.38073431,  83784.91056438,\n",
              "       100288.01873141, 101794.44185483,  71483.61633705,  92027.13423093,\n",
              "        68352.65322455, 105770.97236635,  93529.74620725,  91646.59773434,\n",
              "       103180.62697745,  84489.79419063, 108280.43918436,  71031.10254488,\n",
              "       118237.53037789,  78981.7763489 ,  56076.41864609,  83429.30183075,\n",
              "        81160.63605492,  83278.520277  ,  94632.96030968, 111956.84721777,\n",
              "        86165.88172206,  76167.64860362,  67469.06375432,  80636.34417382,\n",
              "        52243.50321499,  75497.33812967, 114881.07791724,  73532.81590843,\n",
              "       102574.31721601,  65470.35820383, 125421.91798621, 126752.13466129,\n",
              "       101820.4311312 , 129825.05203287,  97115.85949855, 105370.34228299,\n",
              "       115238.67753463,  93594.36906197,  58952.4507683 , 105779.26710469,\n",
              "        80562.80811133,  82049.40358089,  95957.89832957, 101325.61759435,\n",
              "        93002.69268012, 102714.59072315,  75862.8573188 ,  89145.92410553,\n",
              "       106981.70900902, 125455.82352873, 132528.71177946,  98659.53365455,\n",
              "       106800.19653491, 129631.5832963 ,  76583.27926533, 102593.99705425,\n",
              "       105366.85898972, 118957.22872153,  67257.17238928,  71211.88432399,\n",
              "        90427.64422209,  97554.55324643, 112457.27907468, 100350.87551625,\n",
              "        86971.73539779,  98329.22889512,  96020.88952549, 124900.32859976,\n",
              "        93313.17887137,  82338.33172895,  98992.18060144,  93969.70638677,\n",
              "        58580.13288651,  89686.95876756,  87985.23509188,  79122.56268441,\n",
              "       110711.66575246,  74286.40806776,  99112.37239049,  87042.86000313,\n",
              "        92153.90011294,  98235.72582092,  63848.51232218,  93833.2178347 ,\n",
              "       135778.94979426,  58864.73308243,  88847.84072569, 112464.78649648,\n",
              "        96032.38495907, 103759.33904232,  42486.67977815, 101964.9874926 ,\n",
              "        74766.23587533,  96197.54569166,  89411.30538181, 135566.66058323,\n",
              "       100933.90647532,  87747.52341474,  59806.14481493,  92422.938037  ,\n",
              "       106464.57756694,  88388.96216362,  79886.87280125,  78548.26672307,\n",
              "       100702.82870911, 105187.75878618, 117224.20230642,  70100.00213579,\n",
              "       100519.55116835,  87565.92091164,  88155.31590733,  98036.51708068,\n",
              "        98153.1250725 , 100575.36211583,  68850.57615608,  75003.77185667,\n",
              "       119717.36551035,  85588.55065038,  96120.28796036, 111093.32624086,\n",
              "        99268.86144722, 100930.45261944, 107891.55358488,  47666.72478206,\n",
              "        80200.99689679,  99372.11592999, 117752.88614115,  91321.91119312,\n",
              "        73105.67076488,  73638.27900779, 107677.22406906,  85644.52835216,\n",
              "        89855.99908419, 102300.60387545,  31969.52634613, 130007.35023016,\n",
              "        75378.52329898,  94838.72738947,  55906.05973007,  81549.1777919 ,\n",
              "       114893.7609273 ,  51676.65640668, 112524.00174378,  84526.07807535,\n",
              "        99743.2888044 , 103150.4882697 ,  98828.42998982,  72700.98696738,\n",
              "        82709.0170693 ,  60768.87645498,  99835.92663176, 124041.10308032,\n",
              "        53511.18226647,  74767.08187724,  86364.49448234,  93466.82847427,\n",
              "       107583.52602869,  86956.00039285,  83680.82547109, 112062.61412139,\n",
              "       103239.91134127, 100779.55951402,  92250.31423176, 109663.0442184 ,\n",
              "        76873.81217539,  74146.11435628, 104922.01973739,  57499.28061506,\n",
              "        91843.59019273,  83668.83295475,  61884.90538694,  71374.64840567,\n",
              "        87820.47815409, 110679.26512998,  76940.84017484, 114267.6279981 ,\n",
              "        91263.58455113, 116207.6940434 ,  77910.1678244 ,  89023.80823789,\n",
              "        97369.67206674,  86409.79074517, 109060.4829429 ,  45848.72549419,\n",
              "       138448.1107758 , 107155.4921399 ,  86529.3634193 ,  78953.56652845,\n",
              "        72671.58777103, 102912.30948339, 109899.63337585,  86749.4774374 ,\n",
              "       112139.80825957,  71854.79906478,  68323.78300026, 126266.82410491,\n",
              "       101822.17227077, 117936.96403627,  72921.20583225,  71529.49216463,\n",
              "        82827.81361085,  73518.82316922, 104107.30420457,  74977.47886147,\n",
              "        66566.60283865,  92840.3082451 ,  64200.2764835 ,  54010.72137049,\n",
              "        92665.14467723,  55015.5991398 , 105505.58792591,  62093.32547494,\n",
              "        45186.52427161,  84124.06699718,  92891.89006593,  99829.50127364,\n",
              "        93440.31398032,  68813.74757765, 104261.22361853, 109202.77012959,\n",
              "        65884.75743089,  86379.87722681,  84511.19945782,  94407.63165576,\n",
              "        85901.52416452,  88642.44455854, 102836.31060483,  67722.93800798,\n",
              "       104747.46270522, 112822.65463063, 122682.69986978,  47132.65351725,\n",
              "        86341.9668577 ,  50697.98851293,  41298.72620454,  92881.86095215,\n",
              "        82016.96414299,  95997.01903541,  99722.55380175, 114957.91916216,\n",
              "        91078.40850612, 148467.11234638,  96128.1970997 , 126849.58089134,\n",
              "        43343.24398952, 116994.79059101,  86384.79020409,  51033.05481145,\n",
              "        98410.90218456,  83940.88924031, 101601.06496896, 110221.52915102,\n",
              "        60216.99766477, 110298.3796491 ,  90129.58968441, 117056.82349387,\n",
              "        85897.03542004,  80591.82214937,  90541.08081378,  92037.2141276 ,\n",
              "        76744.30397017,  80073.90538089,  65462.48930972,  81307.0982042 ,\n",
              "       103526.20119995,  87252.91652188, 110181.30592095,  86291.41064694,\n",
              "        61369.64004553, 101945.49775113,  76527.53717933,  85332.65422473,\n",
              "       114751.44094968,  66782.59080557,  93294.87574929,  89189.63299928,\n",
              "       104018.51430874, 107103.06730964,  95276.78008498,  82792.50706839,\n",
              "        99467.45008052, 116713.11794289,  89454.20120721,  84654.87771154,\n",
              "        97763.40515336,  90774.54040739,  63245.81152164,  94786.61600795,\n",
              "        63064.75182472,  97489.61292817,  74057.14551187,  90737.49608373,\n",
              "        97811.87812398, 139078.06691887, 104854.99923574, 117295.97619485,\n",
              "       127434.95637388,  99785.11833999,  95713.79600534,  68665.57782348,\n",
              "        87667.40135199,  75538.24540728,  81978.82299751, 127413.26752385,\n",
              "        92292.430184  ,  72482.00844568, 117490.66909383, 109105.50952475,\n",
              "       110153.06985201,  49877.39593795, 128973.41915443,  78829.70515812,\n",
              "       105559.09545586, 140475.99581234, 133106.65496381,  70448.75749055,\n",
              "        61109.65325995, 118606.93197696,  92841.11623188,  79982.37117396,\n",
              "       102424.37093878,  86742.40845081, 104026.48274097,  91339.63615637,\n",
              "       104447.75856656,  72109.34621727, 118489.24026265, 103952.46741465,\n",
              "       102925.94738807,  67646.60145976, 123992.64833288,  89725.67801267,\n",
              "       104560.9772486 ,  83543.51072507,  95217.78129364,  95942.54704239,\n",
              "        33601.38135993, 101648.9624931 , 129306.82923444, 100795.60517984,\n",
              "        70845.83502221, 102999.23132308, 111189.61060347, 100249.33032381,\n",
              "        88517.4578714 ,  85157.01548352,  85073.80489266, 103955.53802022,\n",
              "        61857.52009881,  82562.53678289, 121912.19646022, 122683.90533154,\n",
              "        60437.05824397,  67371.72777473,  84587.58840944, 107851.79034229,\n",
              "        53450.51291894,  88903.82730165,  80516.41686841, 116519.2934857 ,\n",
              "        56461.83052061,  91850.81230987,  82127.81125303, 119395.97852555,\n",
              "       101953.05292707,  78283.68681485, 107067.72886658,  82223.42293383,\n",
              "       109986.5942248 ,  85258.46018229, 111093.33157538,  98721.63910254,\n",
              "       155209.82161383,  88942.07989168,  97657.24583243,  80411.50516568,\n",
              "        90053.7068151 ,  35963.29731701,  99311.68033082, 116857.48425899,\n",
              "        97932.60009199,  63722.77084045,  73964.25694582,  41396.15745687,\n",
              "       109578.48013731,  69869.73414581,  89425.82819576,  86925.24855346,\n",
              "       119754.54071317,  91705.62635931, 106177.85840212, 100929.27528295,\n",
              "       117188.22839923,  85217.52610994, 127392.30661009,  50286.75687201,\n",
              "       107149.46996002,  72667.60782672,  80145.0089444 , 101388.28533802,\n",
              "       101228.04099695, 102128.5602738 ,  62276.8411179 , 118980.60462558,\n",
              "        71987.05763545,  74654.2581955 , 102757.93476334,  84265.57650478,\n",
              "        96165.21681125,  46867.98606734,  95686.48899038,  94356.63759024,\n",
              "        79802.82924471,  48518.4808047 ,  85743.83477037,  89252.52280403,\n",
              "        82655.42019339,  53276.51071135, 121894.68014634,  77222.76944111,\n",
              "        85555.90674154,  41810.51357563, 121897.10697396,  80669.00136532,\n",
              "        91969.25634148, 112414.74889633,  76473.91590567, 109264.89974773,\n",
              "        48773.49088118, 101019.73315143, 121444.84333039,  78391.66305564,\n",
              "       112377.63240597, 126678.45304388,  84903.16323892,  83249.434283  ,\n",
              "        72034.12508335,  79805.3968963 ,  73692.80219455,  72017.77803146,\n",
              "       113976.70593423,  74201.47949423,  95170.43829439,  90764.66870432,\n",
              "       119961.89125142,  79936.8753589 ,  97622.96093309, 105821.39404552,\n",
              "       119794.99214641,  79644.93309909,  77642.15062535,  68764.3789208 ])"
            ]
          },
          "execution_count": 22,
          "metadata": {},
          "output_type": "execute_result"
        }
      ],
      "source": [
        "#List all unique values\n",
        "df['Salary_USD'].unique()\n"
      ]
    },
    {
      "cell_type": "code",
      "execution_count": null,
      "metadata": {
        "colab": {
          "base_uri": "https://localhost:8080/",
          "height": 429
        },
        "id": "MZFFsvWJXZ8h",
        "outputId": "af7b473e-99df-4ed9-cfa4-d3e42bfdab02"
      },
      "outputs": [
        {
          "data": {
            "text/html": [
              "<div>\n",
              "<style scoped>\n",
              "    .dataframe tbody tr th:only-of-type {\n",
              "        vertical-align: middle;\n",
              "    }\n",
              "\n",
              "    .dataframe tbody tr th {\n",
              "        vertical-align: top;\n",
              "    }\n",
              "\n",
              "    .dataframe thead th {\n",
              "        text-align: right;\n",
              "    }\n",
              "</style>\n",
              "<table border=\"1\" class=\"dataframe\">\n",
              "  <thead>\n",
              "    <tr style=\"text-align: right;\">\n",
              "      <th></th>\n",
              "      <th>Salary_USD</th>\n",
              "    </tr>\n",
              "    <tr>\n",
              "      <th>Job_Title</th>\n",
              "      <th></th>\n",
              "    </tr>\n",
              "  </thead>\n",
              "  <tbody>\n",
              "    <tr>\n",
              "      <th>AI Researcher</th>\n",
              "      <td>95583.346966</td>\n",
              "    </tr>\n",
              "    <tr>\n",
              "      <th>Cybersecurity Analyst</th>\n",
              "      <td>89429.064689</td>\n",
              "    </tr>\n",
              "    <tr>\n",
              "      <th>Data Scientist</th>\n",
              "      <td>91480.756134</td>\n",
              "    </tr>\n",
              "    <tr>\n",
              "      <th>HR Manager</th>\n",
              "      <td>89251.780747</td>\n",
              "    </tr>\n",
              "    <tr>\n",
              "      <th>Marketing Specialist</th>\n",
              "      <td>90961.147148</td>\n",
              "    </tr>\n",
              "    <tr>\n",
              "      <th>Operations Manager</th>\n",
              "      <td>96937.230841</td>\n",
              "    </tr>\n",
              "    <tr>\n",
              "      <th>Product Manager</th>\n",
              "      <td>90802.642422</td>\n",
              "    </tr>\n",
              "    <tr>\n",
              "      <th>Sales Manager</th>\n",
              "      <td>92926.644659</td>\n",
              "    </tr>\n",
              "    <tr>\n",
              "      <th>Software Engineer</th>\n",
              "      <td>84490.542038</td>\n",
              "    </tr>\n",
              "    <tr>\n",
              "      <th>UX Designer</th>\n",
              "      <td>90157.291938</td>\n",
              "    </tr>\n",
              "  </tbody>\n",
              "</table>\n",
              "</div><br><label><b>dtype:</b> float64</label>"
            ],
            "text/plain": [
              "Job_Title\n",
              "AI Researcher            95583.346966\n",
              "Cybersecurity Analyst    89429.064689\n",
              "Data Scientist           91480.756134\n",
              "HR Manager               89251.780747\n",
              "Marketing Specialist     90961.147148\n",
              "Operations Manager       96937.230841\n",
              "Product Manager          90802.642422\n",
              "Sales Manager            92926.644659\n",
              "Software Engineer        84490.542038\n",
              "UX Designer              90157.291938\n",
              "Name: Salary_USD, dtype: float64"
            ]
          },
          "execution_count": 23,
          "metadata": {},
          "output_type": "execute_result"
        }
      ],
      "source": [
        "#Group-based analysis (.groupby()).\n",
        "df.groupby('Job_Title')['Salary_USD'].mean()"
      ]
    },
    {
      "cell_type": "markdown",
      "metadata": {
        "id": "zadYGPi_Xlpp"
      },
      "source": [
        "Duplicate Check"
      ]
    },
    {
      "cell_type": "code",
      "execution_count": null,
      "metadata": {
        "colab": {
          "base_uri": "https://localhost:8080/"
        },
        "id": "1itSWEH0Xokz",
        "outputId": "47fa4438-8ecb-4cf7-e3a4-540542d50d30"
      },
      "outputs": [
        {
          "data": {
            "text/plain": [
              "np.int64(0)"
            ]
          },
          "execution_count": 24,
          "metadata": {},
          "output_type": "execute_result"
        }
      ],
      "source": [
        "#Dupicates\n",
        "df.duplicated().sum()"
      ]
    },
    {
      "cell_type": "code",
      "execution_count": null,
      "metadata": {
        "colab": {
          "base_uri": "https://localhost:8080/"
        },
        "id": "dvCluyLbX1Vn",
        "outputId": "36178467-660c-404e-b1d2-12d92729e632"
      },
      "outputs": [
        {
          "name": "stdout",
          "output_type": "stream",
          "text": [
            "No duplicates found in the DataFrame.\n"
          ]
        }
      ],
      "source": [
        "#Remove duplicates\n",
        "df = df.drop_duplicates()\n",
        "if df.duplicated().sum() == 0:\n",
        "    print(\"No duplicates found in the DataFrame.\")\n",
        "else:\n",
        "    print(\"Duplicates found in the DataFrame.\")"
      ]
    },
    {
      "cell_type": "markdown",
      "metadata": {
        "id": "D23cvz-CYEhy"
      },
      "source": [
        "Distribution Check"
      ]
    },
    {
      "cell_type": "code",
      "execution_count": null,
      "metadata": {
        "colab": {
          "base_uri": "https://localhost:8080/",
          "height": 115
        },
        "id": "bjv5qqe-YBUh",
        "outputId": "0d683b6c-a5e4-4992-a2cd-8b29b8a7a9fe"
      },
      "outputs": [
        {
          "data": {
            "text/html": [
              "<div>\n",
              "<style scoped>\n",
              "    .dataframe tbody tr th:only-of-type {\n",
              "        vertical-align: middle;\n",
              "    }\n",
              "\n",
              "    .dataframe tbody tr th {\n",
              "        vertical-align: top;\n",
              "    }\n",
              "\n",
              "    .dataframe thead th {\n",
              "        text-align: right;\n",
              "    }\n",
              "</style>\n",
              "<table border=\"1\" class=\"dataframe\">\n",
              "  <thead>\n",
              "    <tr style=\"text-align: right;\">\n",
              "      <th></th>\n",
              "      <th>0</th>\n",
              "    </tr>\n",
              "  </thead>\n",
              "  <tbody>\n",
              "    <tr>\n",
              "      <th>Salary_USD</th>\n",
              "      <td>-0.160194</td>\n",
              "    </tr>\n",
              "  </tbody>\n",
              "</table>\n",
              "</div><br><label><b>dtype:</b> float64</label>"
            ],
            "text/plain": [
              "Salary_USD   -0.160194\n",
              "dtype: float64"
            ]
          },
          "metadata": {},
          "output_type": "display_data"
        }
      ],
      "source": [
        "#skewness\n",
        "numerical_df = df.select_dtypes(include=np.number)\n",
        "display(numerical_df.skew())"
      ]
    },
    {
      "cell_type": "code",
      "execution_count": null,
      "metadata": {
        "colab": {
          "base_uri": "https://localhost:8080/",
          "height": 115
        },
        "id": "tU6KK4WMYi6H",
        "outputId": "76dd74d7-941f-46ca-95ae-d2382bf51866"
      },
      "outputs": [
        {
          "data": {
            "text/html": [
              "<div>\n",
              "<style scoped>\n",
              "    .dataframe tbody tr th:only-of-type {\n",
              "        vertical-align: middle;\n",
              "    }\n",
              "\n",
              "    .dataframe tbody tr th {\n",
              "        vertical-align: top;\n",
              "    }\n",
              "\n",
              "    .dataframe thead th {\n",
              "        text-align: right;\n",
              "    }\n",
              "</style>\n",
              "<table border=\"1\" class=\"dataframe\">\n",
              "  <thead>\n",
              "    <tr style=\"text-align: right;\">\n",
              "      <th></th>\n",
              "      <th>0</th>\n",
              "    </tr>\n",
              "  </thead>\n",
              "  <tbody>\n",
              "    <tr>\n",
              "      <th>Salary_USD</th>\n",
              "      <td>0.128091</td>\n",
              "    </tr>\n",
              "  </tbody>\n",
              "</table>\n",
              "</div><br><label><b>dtype:</b> float64</label>"
            ],
            "text/plain": [
              "Salary_USD    0.128091\n",
              "dtype: float64"
            ]
          },
          "metadata": {},
          "output_type": "display_data"
        }
      ],
      "source": [
        "#kurtosis\n",
        "numerical_df = df.select_dtypes(include=np.number)\n",
        "display(numerical_df.kurt())"
      ]
    },
    {
      "cell_type": "code",
      "execution_count": null,
      "metadata": {
        "colab": {
          "base_uri": "https://localhost:8080/",
          "height": 458
        },
        "id": "NgwTdLF1Zhy3",
        "outputId": "e85c5e7f-61cc-4304-daa2-bea796bbb1e1"
      },
      "outputs": [
        {
          "data": {
            "text/html": [
              "<div>\n",
              "<style scoped>\n",
              "    .dataframe tbody tr th:only-of-type {\n",
              "        vertical-align: middle;\n",
              "    }\n",
              "\n",
              "    .dataframe tbody tr th {\n",
              "        vertical-align: top;\n",
              "    }\n",
              "\n",
              "    .dataframe thead th {\n",
              "        text-align: right;\n",
              "    }\n",
              "</style>\n",
              "<table border=\"1\" class=\"dataframe\">\n",
              "  <thead>\n",
              "    <tr style=\"text-align: right;\">\n",
              "      <th></th>\n",
              "      <th>Salary_USD</th>\n",
              "    </tr>\n",
              "  </thead>\n",
              "  <tbody>\n",
              "    <tr>\n",
              "      <th>0</th>\n",
              "      <td>111392.165243</td>\n",
              "    </tr>\n",
              "    <tr>\n",
              "      <th>1</th>\n",
              "      <td>93792.562466</td>\n",
              "    </tr>\n",
              "    <tr>\n",
              "      <th>2</th>\n",
              "      <td>107170.263069</td>\n",
              "    </tr>\n",
              "    <tr>\n",
              "      <th>3</th>\n",
              "      <td>93027.953758</td>\n",
              "    </tr>\n",
              "    <tr>\n",
              "      <th>4</th>\n",
              "      <td>87752.922171</td>\n",
              "    </tr>\n",
              "    <tr>\n",
              "      <th>...</th>\n",
              "      <td>...</td>\n",
              "    </tr>\n",
              "    <tr>\n",
              "      <th>495</th>\n",
              "      <td>105821.394046</td>\n",
              "    </tr>\n",
              "    <tr>\n",
              "      <th>496</th>\n",
              "      <td>119794.992146</td>\n",
              "    </tr>\n",
              "    <tr>\n",
              "      <th>497</th>\n",
              "      <td>79644.933099</td>\n",
              "    </tr>\n",
              "    <tr>\n",
              "      <th>498</th>\n",
              "      <td>77642.150625</td>\n",
              "    </tr>\n",
              "    <tr>\n",
              "      <th>499</th>\n",
              "      <td>68764.378921</td>\n",
              "    </tr>\n",
              "  </tbody>\n",
              "</table>\n",
              "<p>500 rows × 1 columns</p>\n",
              "</div><br><label><b>dtype:</b> float64</label>"
            ],
            "text/plain": [
              "0      111392.165243\n",
              "1       93792.562466\n",
              "2      107170.263069\n",
              "3       93027.953758\n",
              "4       87752.922171\n",
              "           ...      \n",
              "495    105821.394046\n",
              "496    119794.992146\n",
              "497     79644.933099\n",
              "498     77642.150625\n",
              "499     68764.378921\n",
              "Name: Salary_USD, Length: 500, dtype: float64"
            ]
          },
          "execution_count": 30,
          "metadata": {},
          "output_type": "execute_result"
        }
      ],
      "source": [
        "#Impute with mean/median (numeric)\n",
        "df['Salary_USD'] = df['Salary_USD'].fillna(df['Salary_USD'].mean())\n",
        "df['Salary_USD']"
      ]
    },
    {
      "cell_type": "code",
      "execution_count": null,
      "metadata": {
        "colab": {
          "base_uri": "https://localhost:8080/",
          "height": 458
        },
        "id": "GjPPmXeIaBR0",
        "outputId": "5b5a832f-45ba-46e9-ceaa-c532d8619a07"
      },
      "outputs": [
        {
          "data": {
            "text/html": [
              "<div>\n",
              "<style scoped>\n",
              "    .dataframe tbody tr th:only-of-type {\n",
              "        vertical-align: middle;\n",
              "    }\n",
              "\n",
              "    .dataframe tbody tr th {\n",
              "        vertical-align: top;\n",
              "    }\n",
              "\n",
              "    .dataframe thead th {\n",
              "        text-align: right;\n",
              "    }\n",
              "</style>\n",
              "<table border=\"1\" class=\"dataframe\">\n",
              "  <thead>\n",
              "    <tr style=\"text-align: right;\">\n",
              "      <th></th>\n",
              "      <th>Job_Title</th>\n",
              "    </tr>\n",
              "  </thead>\n",
              "  <tbody>\n",
              "    <tr>\n",
              "      <th>0</th>\n",
              "      <td>Cybersecurity Analyst</td>\n",
              "    </tr>\n",
              "    <tr>\n",
              "      <th>1</th>\n",
              "      <td>Marketing Specialist</td>\n",
              "    </tr>\n",
              "    <tr>\n",
              "      <th>2</th>\n",
              "      <td>AI Researcher</td>\n",
              "    </tr>\n",
              "    <tr>\n",
              "      <th>3</th>\n",
              "      <td>Sales Manager</td>\n",
              "    </tr>\n",
              "    <tr>\n",
              "      <th>4</th>\n",
              "      <td>Cybersecurity Analyst</td>\n",
              "    </tr>\n",
              "    <tr>\n",
              "      <th>...</th>\n",
              "      <td>...</td>\n",
              "    </tr>\n",
              "    <tr>\n",
              "      <th>495</th>\n",
              "      <td>Data Scientist</td>\n",
              "    </tr>\n",
              "    <tr>\n",
              "      <th>496</th>\n",
              "      <td>Cybersecurity Analyst</td>\n",
              "    </tr>\n",
              "    <tr>\n",
              "      <th>497</th>\n",
              "      <td>Cybersecurity Analyst</td>\n",
              "    </tr>\n",
              "    <tr>\n",
              "      <th>498</th>\n",
              "      <td>Operations Manager</td>\n",
              "    </tr>\n",
              "    <tr>\n",
              "      <th>499</th>\n",
              "      <td>HR Manager</td>\n",
              "    </tr>\n",
              "  </tbody>\n",
              "</table>\n",
              "<p>500 rows × 1 columns</p>\n",
              "</div><br><label><b>dtype:</b> object</label>"
            ],
            "text/plain": [
              "0      Cybersecurity Analyst\n",
              "1       Marketing Specialist\n",
              "2              AI Researcher\n",
              "3              Sales Manager\n",
              "4      Cybersecurity Analyst\n",
              "               ...          \n",
              "495           Data Scientist\n",
              "496    Cybersecurity Analyst\n",
              "497    Cybersecurity Analyst\n",
              "498       Operations Manager\n",
              "499               HR Manager\n",
              "Name: Job_Title, Length: 500, dtype: object"
            ]
          },
          "execution_count": 31,
          "metadata": {},
          "output_type": "execute_result"
        }
      ],
      "source": [
        "#Impute with mode (categorical)\n",
        "df['Job_Title'] = df['Job_Title'].fillna(df['Job_Title'].mode()[0])\n",
        "df['Job_Title']\n"
      ]
    },
    {
      "cell_type": "code",
      "execution_count": null,
      "metadata": {
        "colab": {
          "base_uri": "https://localhost:8080/",
          "height": 458
        },
        "id": "ZWAGMDlfaGTf",
        "outputId": "83e0d685-4322-4983-e227-846fbece4c54"
      },
      "outputs": [
        {
          "data": {
            "text/html": [
              "<div>\n",
              "<style scoped>\n",
              "    .dataframe tbody tr th:only-of-type {\n",
              "        vertical-align: middle;\n",
              "    }\n",
              "\n",
              "    .dataframe tbody tr th {\n",
              "        vertical-align: top;\n",
              "    }\n",
              "\n",
              "    .dataframe thead th {\n",
              "        text-align: right;\n",
              "    }\n",
              "</style>\n",
              "<table border=\"1\" class=\"dataframe\">\n",
              "  <thead>\n",
              "    <tr style=\"text-align: right;\">\n",
              "      <th></th>\n",
              "      <th>Salary_USD_missing</th>\n",
              "    </tr>\n",
              "  </thead>\n",
              "  <tbody>\n",
              "    <tr>\n",
              "      <th>0</th>\n",
              "      <td>0</td>\n",
              "    </tr>\n",
              "    <tr>\n",
              "      <th>1</th>\n",
              "      <td>0</td>\n",
              "    </tr>\n",
              "    <tr>\n",
              "      <th>2</th>\n",
              "      <td>0</td>\n",
              "    </tr>\n",
              "    <tr>\n",
              "      <th>3</th>\n",
              "      <td>0</td>\n",
              "    </tr>\n",
              "    <tr>\n",
              "      <th>4</th>\n",
              "      <td>0</td>\n",
              "    </tr>\n",
              "    <tr>\n",
              "      <th>...</th>\n",
              "      <td>...</td>\n",
              "    </tr>\n",
              "    <tr>\n",
              "      <th>495</th>\n",
              "      <td>0</td>\n",
              "    </tr>\n",
              "    <tr>\n",
              "      <th>496</th>\n",
              "      <td>0</td>\n",
              "    </tr>\n",
              "    <tr>\n",
              "      <th>497</th>\n",
              "      <td>0</td>\n",
              "    </tr>\n",
              "    <tr>\n",
              "      <th>498</th>\n",
              "      <td>0</td>\n",
              "    </tr>\n",
              "    <tr>\n",
              "      <th>499</th>\n",
              "      <td>0</td>\n",
              "    </tr>\n",
              "  </tbody>\n",
              "</table>\n",
              "<p>500 rows × 1 columns</p>\n",
              "</div><br><label><b>dtype:</b> int64</label>"
            ],
            "text/plain": [
              "0      0\n",
              "1      0\n",
              "2      0\n",
              "3      0\n",
              "4      0\n",
              "      ..\n",
              "495    0\n",
              "496    0\n",
              "497    0\n",
              "498    0\n",
              "499    0\n",
              "Name: Salary_USD_missing, Length: 500, dtype: int64"
            ]
          },
          "execution_count": 32,
          "metadata": {},
          "output_type": "execute_result"
        }
      ],
      "source": [
        "#Flag missingness with a binary feature\n",
        "df['Salary_USD_missing'] = df['Salary_USD'].isnull().astype(int)\n",
        "df['Salary_USD_missing']"
      ]
    },
    {
      "cell_type": "markdown",
      "metadata": {
        "id": "rpJSMFzAaLnI"
      },
      "source": [
        "Encoding Categorical Variables"
      ]
    },
    {
      "cell_type": "code",
      "execution_count": null,
      "metadata": {
        "colab": {
          "base_uri": "https://localhost:8080/",
          "height": 342
        },
        "id": "qtQGFB8laPKN",
        "outputId": "a2d41835-71b0-4425-bffe-03399da81de0"
      },
      "outputs": [
        {
          "data": {
            "application/vnd.google.colaboratory.intrinsic+json": {
              "type": "dataframe",
              "variable_name": "df_one_hot"
            },
            "text/html": [
              "\n",
              "  <div id=\"df-7be7dd54-19a6-450c-91c5-713db1f3f2f6\" class=\"colab-df-container\">\n",
              "    <div>\n",
              "<style scoped>\n",
              "    .dataframe tbody tr th:only-of-type {\n",
              "        vertical-align: middle;\n",
              "    }\n",
              "\n",
              "    .dataframe tbody tr th {\n",
              "        vertical-align: top;\n",
              "    }\n",
              "\n",
              "    .dataframe thead th {\n",
              "        text-align: right;\n",
              "    }\n",
              "</style>\n",
              "<table border=\"1\" class=\"dataframe\">\n",
              "  <thead>\n",
              "    <tr style=\"text-align: right;\">\n",
              "      <th></th>\n",
              "      <th>Job_Title</th>\n",
              "      <th>Industry</th>\n",
              "      <th>Company_Size</th>\n",
              "      <th>Location</th>\n",
              "      <th>AI_Adoption_Level</th>\n",
              "      <th>Automation_Risk</th>\n",
              "      <th>Required_Skills</th>\n",
              "      <th>Salary_USD</th>\n",
              "      <th>Remote_Friendly</th>\n",
              "      <th>Job_Growth_Projection</th>\n",
              "      <th>...</th>\n",
              "      <th>Industry_Education</th>\n",
              "      <th>Industry_Energy</th>\n",
              "      <th>Industry_Entertainment</th>\n",
              "      <th>Industry_Finance</th>\n",
              "      <th>Industry_Healthcare</th>\n",
              "      <th>Industry_Manufacturing</th>\n",
              "      <th>Industry_Retail</th>\n",
              "      <th>Industry_Technology</th>\n",
              "      <th>Industry_Telecommunications</th>\n",
              "      <th>Industry_Transportation</th>\n",
              "    </tr>\n",
              "  </thead>\n",
              "  <tbody>\n",
              "    <tr>\n",
              "      <th>0</th>\n",
              "      <td>Cybersecurity Analyst</td>\n",
              "      <td>Entertainment</td>\n",
              "      <td>Small</td>\n",
              "      <td>Dubai</td>\n",
              "      <td>Medium</td>\n",
              "      <td>High</td>\n",
              "      <td>UX/UI Design</td>\n",
              "      <td>111392.165243</td>\n",
              "      <td>Yes</td>\n",
              "      <td>Growth</td>\n",
              "      <td>...</td>\n",
              "      <td>False</td>\n",
              "      <td>False</td>\n",
              "      <td>True</td>\n",
              "      <td>False</td>\n",
              "      <td>False</td>\n",
              "      <td>False</td>\n",
              "      <td>False</td>\n",
              "      <td>False</td>\n",
              "      <td>False</td>\n",
              "      <td>False</td>\n",
              "    </tr>\n",
              "    <tr>\n",
              "      <th>1</th>\n",
              "      <td>Marketing Specialist</td>\n",
              "      <td>Technology</td>\n",
              "      <td>Large</td>\n",
              "      <td>Singapore</td>\n",
              "      <td>Medium</td>\n",
              "      <td>High</td>\n",
              "      <td>Marketing</td>\n",
              "      <td>93792.562466</td>\n",
              "      <td>No</td>\n",
              "      <td>Decline</td>\n",
              "      <td>...</td>\n",
              "      <td>False</td>\n",
              "      <td>False</td>\n",
              "      <td>False</td>\n",
              "      <td>False</td>\n",
              "      <td>False</td>\n",
              "      <td>False</td>\n",
              "      <td>False</td>\n",
              "      <td>True</td>\n",
              "      <td>False</td>\n",
              "      <td>False</td>\n",
              "    </tr>\n",
              "    <tr>\n",
              "      <th>2</th>\n",
              "      <td>AI Researcher</td>\n",
              "      <td>Technology</td>\n",
              "      <td>Large</td>\n",
              "      <td>Singapore</td>\n",
              "      <td>Medium</td>\n",
              "      <td>High</td>\n",
              "      <td>UX/UI Design</td>\n",
              "      <td>107170.263069</td>\n",
              "      <td>Yes</td>\n",
              "      <td>Growth</td>\n",
              "      <td>...</td>\n",
              "      <td>False</td>\n",
              "      <td>False</td>\n",
              "      <td>False</td>\n",
              "      <td>False</td>\n",
              "      <td>False</td>\n",
              "      <td>False</td>\n",
              "      <td>False</td>\n",
              "      <td>True</td>\n",
              "      <td>False</td>\n",
              "      <td>False</td>\n",
              "    </tr>\n",
              "    <tr>\n",
              "      <th>3</th>\n",
              "      <td>Sales Manager</td>\n",
              "      <td>Retail</td>\n",
              "      <td>Small</td>\n",
              "      <td>Berlin</td>\n",
              "      <td>Low</td>\n",
              "      <td>High</td>\n",
              "      <td>Project Management</td>\n",
              "      <td>93027.953758</td>\n",
              "      <td>No</td>\n",
              "      <td>Growth</td>\n",
              "      <td>...</td>\n",
              "      <td>False</td>\n",
              "      <td>False</td>\n",
              "      <td>False</td>\n",
              "      <td>False</td>\n",
              "      <td>False</td>\n",
              "      <td>False</td>\n",
              "      <td>True</td>\n",
              "      <td>False</td>\n",
              "      <td>False</td>\n",
              "      <td>False</td>\n",
              "    </tr>\n",
              "    <tr>\n",
              "      <th>4</th>\n",
              "      <td>Cybersecurity Analyst</td>\n",
              "      <td>Entertainment</td>\n",
              "      <td>Small</td>\n",
              "      <td>Tokyo</td>\n",
              "      <td>Low</td>\n",
              "      <td>Low</td>\n",
              "      <td>JavaScript</td>\n",
              "      <td>87752.922171</td>\n",
              "      <td>Yes</td>\n",
              "      <td>Decline</td>\n",
              "      <td>...</td>\n",
              "      <td>False</td>\n",
              "      <td>False</td>\n",
              "      <td>True</td>\n",
              "      <td>False</td>\n",
              "      <td>False</td>\n",
              "      <td>False</td>\n",
              "      <td>False</td>\n",
              "      <td>False</td>\n",
              "      <td>False</td>\n",
              "      <td>False</td>\n",
              "    </tr>\n",
              "  </tbody>\n",
              "</table>\n",
              "<p>5 rows × 21 columns</p>\n",
              "</div>\n",
              "    <div class=\"colab-df-buttons\">\n",
              "\n",
              "  <div class=\"colab-df-container\">\n",
              "    <button class=\"colab-df-convert\" onclick=\"convertToInteractive('df-7be7dd54-19a6-450c-91c5-713db1f3f2f6')\"\n",
              "            title=\"Convert this dataframe to an interactive table.\"\n",
              "            style=\"display:none;\">\n",
              "\n",
              "  <svg xmlns=\"http://www.w3.org/2000/svg\" height=\"24px\" viewBox=\"0 -960 960 960\">\n",
              "    <path d=\"M120-120v-720h720v720H120Zm60-500h600v-160H180v160Zm220 220h160v-160H400v160Zm0 220h160v-160H400v160ZM180-400h160v-160H180v160Zm440 0h160v-160H620v160ZM180-180h160v-160H180v160Zm440 0h160v-160H620v160Z\"/>\n",
              "  </svg>\n",
              "    </button>\n",
              "\n",
              "  <style>\n",
              "    .colab-df-container {\n",
              "      display:flex;\n",
              "      gap: 12px;\n",
              "    }\n",
              "\n",
              "    .colab-df-convert {\n",
              "      background-color: #E8F0FE;\n",
              "      border: none;\n",
              "      border-radius: 50%;\n",
              "      cursor: pointer;\n",
              "      display: none;\n",
              "      fill: #1967D2;\n",
              "      height: 32px;\n",
              "      padding: 0 0 0 0;\n",
              "      width: 32px;\n",
              "    }\n",
              "\n",
              "    .colab-df-convert:hover {\n",
              "      background-color: #E2EBFA;\n",
              "      box-shadow: 0px 1px 2px rgba(60, 64, 67, 0.3), 0px 1px 3px 1px rgba(60, 64, 67, 0.15);\n",
              "      fill: #174EA6;\n",
              "    }\n",
              "\n",
              "    .colab-df-buttons div {\n",
              "      margin-bottom: 4px;\n",
              "    }\n",
              "\n",
              "    [theme=dark] .colab-df-convert {\n",
              "      background-color: #3B4455;\n",
              "      fill: #D2E3FC;\n",
              "    }\n",
              "\n",
              "    [theme=dark] .colab-df-convert:hover {\n",
              "      background-color: #434B5C;\n",
              "      box-shadow: 0px 1px 3px 1px rgba(0, 0, 0, 0.15);\n",
              "      filter: drop-shadow(0px 1px 2px rgba(0, 0, 0, 0.3));\n",
              "      fill: #FFFFFF;\n",
              "    }\n",
              "  </style>\n",
              "\n",
              "    <script>\n",
              "      const buttonEl =\n",
              "        document.querySelector('#df-7be7dd54-19a6-450c-91c5-713db1f3f2f6 button.colab-df-convert');\n",
              "      buttonEl.style.display =\n",
              "        google.colab.kernel.accessAllowed ? 'block' : 'none';\n",
              "\n",
              "      async function convertToInteractive(key) {\n",
              "        const element = document.querySelector('#df-7be7dd54-19a6-450c-91c5-713db1f3f2f6');\n",
              "        const dataTable =\n",
              "          await google.colab.kernel.invokeFunction('convertToInteractive',\n",
              "                                                    [key], {});\n",
              "        if (!dataTable) return;\n",
              "\n",
              "        const docLinkHtml = 'Like what you see? Visit the ' +\n",
              "          '<a target=\"_blank\" href=https://colab.research.google.com/notebooks/data_table.ipynb>data table notebook</a>'\n",
              "          + ' to learn more about interactive tables.';\n",
              "        element.innerHTML = '';\n",
              "        dataTable['output_type'] = 'display_data';\n",
              "        await google.colab.output.renderOutput(dataTable, element);\n",
              "        const docLink = document.createElement('div');\n",
              "        docLink.innerHTML = docLinkHtml;\n",
              "        element.appendChild(docLink);\n",
              "      }\n",
              "    </script>\n",
              "  </div>\n",
              "\n",
              "\n",
              "    <div id=\"df-f4d345bf-ef91-42aa-a099-427d5840826f\">\n",
              "      <button class=\"colab-df-quickchart\" onclick=\"quickchart('df-f4d345bf-ef91-42aa-a099-427d5840826f')\"\n",
              "                title=\"Suggest charts\"\n",
              "                style=\"display:none;\">\n",
              "\n",
              "<svg xmlns=\"http://www.w3.org/2000/svg\" height=\"24px\"viewBox=\"0 0 24 24\"\n",
              "     width=\"24px\">\n",
              "    <g>\n",
              "        <path d=\"M19 3H5c-1.1 0-2 .9-2 2v14c0 1.1.9 2 2 2h14c1.1 0 2-.9 2-2V5c0-1.1-.9-2-2-2zM9 17H7v-7h2v7zm4 0h-2V7h2v10zm4 0h-2v-4h2v4z\"/>\n",
              "    </g>\n",
              "</svg>\n",
              "      </button>\n",
              "\n",
              "<style>\n",
              "  .colab-df-quickchart {\n",
              "      --bg-color: #E8F0FE;\n",
              "      --fill-color: #1967D2;\n",
              "      --hover-bg-color: #E2EBFA;\n",
              "      --hover-fill-color: #174EA6;\n",
              "      --disabled-fill-color: #AAA;\n",
              "      --disabled-bg-color: #DDD;\n",
              "  }\n",
              "\n",
              "  [theme=dark] .colab-df-quickchart {\n",
              "      --bg-color: #3B4455;\n",
              "      --fill-color: #D2E3FC;\n",
              "      --hover-bg-color: #434B5C;\n",
              "      --hover-fill-color: #FFFFFF;\n",
              "      --disabled-bg-color: #3B4455;\n",
              "      --disabled-fill-color: #666;\n",
              "  }\n",
              "\n",
              "  .colab-df-quickchart {\n",
              "    background-color: var(--bg-color);\n",
              "    border: none;\n",
              "    border-radius: 50%;\n",
              "    cursor: pointer;\n",
              "    display: none;\n",
              "    fill: var(--fill-color);\n",
              "    height: 32px;\n",
              "    padding: 0;\n",
              "    width: 32px;\n",
              "  }\n",
              "\n",
              "  .colab-df-quickchart:hover {\n",
              "    background-color: var(--hover-bg-color);\n",
              "    box-shadow: 0 1px 2px rgba(60, 64, 67, 0.3), 0 1px 3px 1px rgba(60, 64, 67, 0.15);\n",
              "    fill: var(--button-hover-fill-color);\n",
              "  }\n",
              "\n",
              "  .colab-df-quickchart-complete:disabled,\n",
              "  .colab-df-quickchart-complete:disabled:hover {\n",
              "    background-color: var(--disabled-bg-color);\n",
              "    fill: var(--disabled-fill-color);\n",
              "    box-shadow: none;\n",
              "  }\n",
              "\n",
              "  .colab-df-spinner {\n",
              "    border: 2px solid var(--fill-color);\n",
              "    border-color: transparent;\n",
              "    border-bottom-color: var(--fill-color);\n",
              "    animation:\n",
              "      spin 1s steps(1) infinite;\n",
              "  }\n",
              "\n",
              "  @keyframes spin {\n",
              "    0% {\n",
              "      border-color: transparent;\n",
              "      border-bottom-color: var(--fill-color);\n",
              "      border-left-color: var(--fill-color);\n",
              "    }\n",
              "    20% {\n",
              "      border-color: transparent;\n",
              "      border-left-color: var(--fill-color);\n",
              "      border-top-color: var(--fill-color);\n",
              "    }\n",
              "    30% {\n",
              "      border-color: transparent;\n",
              "      border-left-color: var(--fill-color);\n",
              "      border-top-color: var(--fill-color);\n",
              "      border-right-color: var(--fill-color);\n",
              "    }\n",
              "    40% {\n",
              "      border-color: transparent;\n",
              "      border-right-color: var(--fill-color);\n",
              "      border-top-color: var(--fill-color);\n",
              "    }\n",
              "    60% {\n",
              "      border-color: transparent;\n",
              "      border-right-color: var(--fill-color);\n",
              "    }\n",
              "    80% {\n",
              "      border-color: transparent;\n",
              "      border-right-color: var(--fill-color);\n",
              "      border-bottom-color: var(--fill-color);\n",
              "    }\n",
              "    90% {\n",
              "      border-color: transparent;\n",
              "      border-bottom-color: var(--fill-color);\n",
              "    }\n",
              "  }\n",
              "</style>\n",
              "\n",
              "      <script>\n",
              "        async function quickchart(key) {\n",
              "          const quickchartButtonEl =\n",
              "            document.querySelector('#' + key + ' button');\n",
              "          quickchartButtonEl.disabled = true;  // To prevent multiple clicks.\n",
              "          quickchartButtonEl.classList.add('colab-df-spinner');\n",
              "          try {\n",
              "            const charts = await google.colab.kernel.invokeFunction(\n",
              "                'suggestCharts', [key], {});\n",
              "          } catch (error) {\n",
              "            console.error('Error during call to suggestCharts:', error);\n",
              "          }\n",
              "          quickchartButtonEl.classList.remove('colab-df-spinner');\n",
              "          quickchartButtonEl.classList.add('colab-df-quickchart-complete');\n",
              "        }\n",
              "        (() => {\n",
              "          let quickchartButtonEl =\n",
              "            document.querySelector('#df-f4d345bf-ef91-42aa-a099-427d5840826f button');\n",
              "          quickchartButtonEl.style.display =\n",
              "            google.colab.kernel.accessAllowed ? 'block' : 'none';\n",
              "        })();\n",
              "      </script>\n",
              "    </div>\n",
              "\n",
              "    </div>\n",
              "  </div>\n"
            ],
            "text/plain": [
              "               Job_Title       Industry Company_Size   Location  \\\n",
              "0  Cybersecurity Analyst  Entertainment        Small      Dubai   \n",
              "1   Marketing Specialist     Technology        Large  Singapore   \n",
              "2          AI Researcher     Technology        Large  Singapore   \n",
              "3          Sales Manager         Retail        Small     Berlin   \n",
              "4  Cybersecurity Analyst  Entertainment        Small      Tokyo   \n",
              "\n",
              "  AI_Adoption_Level Automation_Risk     Required_Skills     Salary_USD  \\\n",
              "0            Medium            High        UX/UI Design  111392.165243   \n",
              "1            Medium            High           Marketing   93792.562466   \n",
              "2            Medium            High        UX/UI Design  107170.263069   \n",
              "3               Low            High  Project Management   93027.953758   \n",
              "4               Low             Low          JavaScript   87752.922171   \n",
              "\n",
              "  Remote_Friendly Job_Growth_Projection  ...  Industry_Education  \\\n",
              "0             Yes                Growth  ...               False   \n",
              "1              No               Decline  ...               False   \n",
              "2             Yes                Growth  ...               False   \n",
              "3              No                Growth  ...               False   \n",
              "4             Yes               Decline  ...               False   \n",
              "\n",
              "   Industry_Energy  Industry_Entertainment  Industry_Finance  \\\n",
              "0            False                    True             False   \n",
              "1            False                   False             False   \n",
              "2            False                   False             False   \n",
              "3            False                   False             False   \n",
              "4            False                    True             False   \n",
              "\n",
              "   Industry_Healthcare  Industry_Manufacturing  Industry_Retail  \\\n",
              "0                False                   False            False   \n",
              "1                False                   False            False   \n",
              "2                False                   False            False   \n",
              "3                False                   False             True   \n",
              "4                False                   False            False   \n",
              "\n",
              "   Industry_Technology  Industry_Telecommunications  Industry_Transportation  \n",
              "0                False                        False                    False  \n",
              "1                 True                        False                    False  \n",
              "2                 True                        False                    False  \n",
              "3                False                        False                    False  \n",
              "4                False                        False                    False  \n",
              "\n",
              "[5 rows x 21 columns]"
            ]
          },
          "execution_count": 33,
          "metadata": {},
          "output_type": "execute_result"
        }
      ],
      "source": [
        "#One hot encoding\n",
        "one_hot = pd.get_dummies(df['Industry'], prefix='Industry')\n",
        "df_one_hot = pd.concat([df, one_hot], axis=1)\n",
        "df_one_hot.head()\n"
      ]
    },
    {
      "cell_type": "code",
      "execution_count": null,
      "metadata": {
        "colab": {
          "base_uri": "https://localhost:8080/",
          "height": 458
        },
        "id": "Lm55TiEPaglZ",
        "outputId": "2cc9dd08-ce48-4e6d-c2b2-4373a1e85e91"
      },
      "outputs": [
        {
          "data": {
            "text/html": [
              "<div>\n",
              "<style scoped>\n",
              "    .dataframe tbody tr th:only-of-type {\n",
              "        vertical-align: middle;\n",
              "    }\n",
              "\n",
              "    .dataframe tbody tr th {\n",
              "        vertical-align: top;\n",
              "    }\n",
              "\n",
              "    .dataframe thead th {\n",
              "        text-align: right;\n",
              "    }\n",
              "</style>\n",
              "<table border=\"1\" class=\"dataframe\">\n",
              "  <thead>\n",
              "    <tr style=\"text-align: right;\">\n",
              "      <th></th>\n",
              "      <th>Industry_encoded</th>\n",
              "    </tr>\n",
              "  </thead>\n",
              "  <tbody>\n",
              "    <tr>\n",
              "      <th>0</th>\n",
              "      <td>2</td>\n",
              "    </tr>\n",
              "    <tr>\n",
              "      <th>1</th>\n",
              "      <td>7</td>\n",
              "    </tr>\n",
              "    <tr>\n",
              "      <th>2</th>\n",
              "      <td>7</td>\n",
              "    </tr>\n",
              "    <tr>\n",
              "      <th>3</th>\n",
              "      <td>6</td>\n",
              "    </tr>\n",
              "    <tr>\n",
              "      <th>4</th>\n",
              "      <td>2</td>\n",
              "    </tr>\n",
              "    <tr>\n",
              "      <th>...</th>\n",
              "      <td>...</td>\n",
              "    </tr>\n",
              "    <tr>\n",
              "      <th>495</th>\n",
              "      <td>8</td>\n",
              "    </tr>\n",
              "    <tr>\n",
              "      <th>496</th>\n",
              "      <td>8</td>\n",
              "    </tr>\n",
              "    <tr>\n",
              "      <th>497</th>\n",
              "      <td>1</td>\n",
              "    </tr>\n",
              "    <tr>\n",
              "      <th>498</th>\n",
              "      <td>4</td>\n",
              "    </tr>\n",
              "    <tr>\n",
              "      <th>499</th>\n",
              "      <td>2</td>\n",
              "    </tr>\n",
              "  </tbody>\n",
              "</table>\n",
              "<p>500 rows × 1 columns</p>\n",
              "</div><br><label><b>dtype:</b> int64</label>"
            ],
            "text/plain": [
              "0      2\n",
              "1      7\n",
              "2      7\n",
              "3      6\n",
              "4      2\n",
              "      ..\n",
              "495    8\n",
              "496    8\n",
              "497    1\n",
              "498    4\n",
              "499    2\n",
              "Name: Industry_encoded, Length: 500, dtype: int64"
            ]
          },
          "execution_count": 34,
          "metadata": {},
          "output_type": "execute_result"
        }
      ],
      "source": [
        "#Label Encoding\n",
        "from sklearn.preprocessing import LabelEncoder\n",
        "\n",
        "label_encoder = LabelEncoder()\n",
        "df['Industry_encoded'] = label_encoder.fit_transform(df['Industry'])\n",
        "df['Industry_encoded']\n"
      ]
    },
    {
      "cell_type": "markdown",
      "metadata": {
        "id": "PWFVS-dohqbM"
      },
      "source": [
        "Binning"
      ]
    },
    {
      "cell_type": "code",
      "execution_count": null,
      "metadata": {
        "colab": {
          "base_uri": "https://localhost:8080/",
          "height": 206
        },
        "id": "nr9XLihphrsJ",
        "outputId": "af610098-60a0-49a1-d980-c0ed28a10f30"
      },
      "outputs": [
        {
          "data": {
            "application/vnd.google.colaboratory.intrinsic+json": {
              "summary": "{\n  \"name\": \"df[['Salary_USD', 'Salary_bin_equal']]\",\n  \"rows\": 5,\n  \"fields\": [\n    {\n      \"column\": \"Salary_USD\",\n      \"properties\": {\n        \"dtype\": \"number\",\n        \"std\": 10110.680752685521,\n        \"min\": 87752.92217059238,\n        \"max\": 111392.16524315962,\n        \"num_unique_values\": 5,\n        \"samples\": [\n          93792.56246610906,\n          87752.92217059238,\n          107170.26306894996\n        ],\n        \"semantic_type\": \"\",\n        \"description\": \"\"\n      }\n    },\n    {\n      \"column\": \"Salary_bin_equal\",\n      \"properties\": {\n        \"dtype\": \"category\",\n        \"num_unique_values\": 2,\n        \"samples\": [\n          \"Medium\",\n          \"High\"\n        ],\n        \"semantic_type\": \"\",\n        \"description\": \"\"\n      }\n    }\n  ]\n}",
              "type": "dataframe"
            },
            "text/html": [
              "\n",
              "  <div id=\"df-149cff90-56c7-409e-a283-02d172f3df78\" class=\"colab-df-container\">\n",
              "    <div>\n",
              "<style scoped>\n",
              "    .dataframe tbody tr th:only-of-type {\n",
              "        vertical-align: middle;\n",
              "    }\n",
              "\n",
              "    .dataframe tbody tr th {\n",
              "        vertical-align: top;\n",
              "    }\n",
              "\n",
              "    .dataframe thead th {\n",
              "        text-align: right;\n",
              "    }\n",
              "</style>\n",
              "<table border=\"1\" class=\"dataframe\">\n",
              "  <thead>\n",
              "    <tr style=\"text-align: right;\">\n",
              "      <th></th>\n",
              "      <th>Salary_USD</th>\n",
              "      <th>Salary_bin_equal</th>\n",
              "    </tr>\n",
              "  </thead>\n",
              "  <tbody>\n",
              "    <tr>\n",
              "      <th>0</th>\n",
              "      <td>111392.165243</td>\n",
              "      <td>High</td>\n",
              "    </tr>\n",
              "    <tr>\n",
              "      <th>1</th>\n",
              "      <td>93792.562466</td>\n",
              "      <td>High</td>\n",
              "    </tr>\n",
              "    <tr>\n",
              "      <th>2</th>\n",
              "      <td>107170.263069</td>\n",
              "      <td>High</td>\n",
              "    </tr>\n",
              "    <tr>\n",
              "      <th>3</th>\n",
              "      <td>93027.953758</td>\n",
              "      <td>Medium</td>\n",
              "    </tr>\n",
              "    <tr>\n",
              "      <th>4</th>\n",
              "      <td>87752.922171</td>\n",
              "      <td>Medium</td>\n",
              "    </tr>\n",
              "  </tbody>\n",
              "</table>\n",
              "</div>\n",
              "    <div class=\"colab-df-buttons\">\n",
              "\n",
              "  <div class=\"colab-df-container\">\n",
              "    <button class=\"colab-df-convert\" onclick=\"convertToInteractive('df-149cff90-56c7-409e-a283-02d172f3df78')\"\n",
              "            title=\"Convert this dataframe to an interactive table.\"\n",
              "            style=\"display:none;\">\n",
              "\n",
              "  <svg xmlns=\"http://www.w3.org/2000/svg\" height=\"24px\" viewBox=\"0 -960 960 960\">\n",
              "    <path d=\"M120-120v-720h720v720H120Zm60-500h600v-160H180v160Zm220 220h160v-160H400v160Zm0 220h160v-160H400v160ZM180-400h160v-160H180v160Zm440 0h160v-160H620v160ZM180-180h160v-160H180v160Zm440 0h160v-160H620v160Z\"/>\n",
              "  </svg>\n",
              "    </button>\n",
              "\n",
              "  <style>\n",
              "    .colab-df-container {\n",
              "      display:flex;\n",
              "      gap: 12px;\n",
              "    }\n",
              "\n",
              "    .colab-df-convert {\n",
              "      background-color: #E8F0FE;\n",
              "      border: none;\n",
              "      border-radius: 50%;\n",
              "      cursor: pointer;\n",
              "      display: none;\n",
              "      fill: #1967D2;\n",
              "      height: 32px;\n",
              "      padding: 0 0 0 0;\n",
              "      width: 32px;\n",
              "    }\n",
              "\n",
              "    .colab-df-convert:hover {\n",
              "      background-color: #E2EBFA;\n",
              "      box-shadow: 0px 1px 2px rgba(60, 64, 67, 0.3), 0px 1px 3px 1px rgba(60, 64, 67, 0.15);\n",
              "      fill: #174EA6;\n",
              "    }\n",
              "\n",
              "    .colab-df-buttons div {\n",
              "      margin-bottom: 4px;\n",
              "    }\n",
              "\n",
              "    [theme=dark] .colab-df-convert {\n",
              "      background-color: #3B4455;\n",
              "      fill: #D2E3FC;\n",
              "    }\n",
              "\n",
              "    [theme=dark] .colab-df-convert:hover {\n",
              "      background-color: #434B5C;\n",
              "      box-shadow: 0px 1px 3px 1px rgba(0, 0, 0, 0.15);\n",
              "      filter: drop-shadow(0px 1px 2px rgba(0, 0, 0, 0.3));\n",
              "      fill: #FFFFFF;\n",
              "    }\n",
              "  </style>\n",
              "\n",
              "    <script>\n",
              "      const buttonEl =\n",
              "        document.querySelector('#df-149cff90-56c7-409e-a283-02d172f3df78 button.colab-df-convert');\n",
              "      buttonEl.style.display =\n",
              "        google.colab.kernel.accessAllowed ? 'block' : 'none';\n",
              "\n",
              "      async function convertToInteractive(key) {\n",
              "        const element = document.querySelector('#df-149cff90-56c7-409e-a283-02d172f3df78');\n",
              "        const dataTable =\n",
              "          await google.colab.kernel.invokeFunction('convertToInteractive',\n",
              "                                                    [key], {});\n",
              "        if (!dataTable) return;\n",
              "\n",
              "        const docLinkHtml = 'Like what you see? Visit the ' +\n",
              "          '<a target=\"_blank\" href=https://colab.research.google.com/notebooks/data_table.ipynb>data table notebook</a>'\n",
              "          + ' to learn more about interactive tables.';\n",
              "        element.innerHTML = '';\n",
              "        dataTable['output_type'] = 'display_data';\n",
              "        await google.colab.output.renderOutput(dataTable, element);\n",
              "        const docLink = document.createElement('div');\n",
              "        docLink.innerHTML = docLinkHtml;\n",
              "        element.appendChild(docLink);\n",
              "      }\n",
              "    </script>\n",
              "  </div>\n",
              "\n",
              "\n",
              "    <div id=\"df-7fd3eef6-de08-4a00-96b4-4960d2bc3520\">\n",
              "      <button class=\"colab-df-quickchart\" onclick=\"quickchart('df-7fd3eef6-de08-4a00-96b4-4960d2bc3520')\"\n",
              "                title=\"Suggest charts\"\n",
              "                style=\"display:none;\">\n",
              "\n",
              "<svg xmlns=\"http://www.w3.org/2000/svg\" height=\"24px\"viewBox=\"0 0 24 24\"\n",
              "     width=\"24px\">\n",
              "    <g>\n",
              "        <path d=\"M19 3H5c-1.1 0-2 .9-2 2v14c0 1.1.9 2 2 2h14c1.1 0 2-.9 2-2V5c0-1.1-.9-2-2-2zM9 17H7v-7h2v7zm4 0h-2V7h2v10zm4 0h-2v-4h2v4z\"/>\n",
              "    </g>\n",
              "</svg>\n",
              "      </button>\n",
              "\n",
              "<style>\n",
              "  .colab-df-quickchart {\n",
              "      --bg-color: #E8F0FE;\n",
              "      --fill-color: #1967D2;\n",
              "      --hover-bg-color: #E2EBFA;\n",
              "      --hover-fill-color: #174EA6;\n",
              "      --disabled-fill-color: #AAA;\n",
              "      --disabled-bg-color: #DDD;\n",
              "  }\n",
              "\n",
              "  [theme=dark] .colab-df-quickchart {\n",
              "      --bg-color: #3B4455;\n",
              "      --fill-color: #D2E3FC;\n",
              "      --hover-bg-color: #434B5C;\n",
              "      --hover-fill-color: #FFFFFF;\n",
              "      --disabled-bg-color: #3B4455;\n",
              "      --disabled-fill-color: #666;\n",
              "  }\n",
              "\n",
              "  .colab-df-quickchart {\n",
              "    background-color: var(--bg-color);\n",
              "    border: none;\n",
              "    border-radius: 50%;\n",
              "    cursor: pointer;\n",
              "    display: none;\n",
              "    fill: var(--fill-color);\n",
              "    height: 32px;\n",
              "    padding: 0;\n",
              "    width: 32px;\n",
              "  }\n",
              "\n",
              "  .colab-df-quickchart:hover {\n",
              "    background-color: var(--hover-bg-color);\n",
              "    box-shadow: 0 1px 2px rgba(60, 64, 67, 0.3), 0 1px 3px 1px rgba(60, 64, 67, 0.15);\n",
              "    fill: var(--button-hover-fill-color);\n",
              "  }\n",
              "\n",
              "  .colab-df-quickchart-complete:disabled,\n",
              "  .colab-df-quickchart-complete:disabled:hover {\n",
              "    background-color: var(--disabled-bg-color);\n",
              "    fill: var(--disabled-fill-color);\n",
              "    box-shadow: none;\n",
              "  }\n",
              "\n",
              "  .colab-df-spinner {\n",
              "    border: 2px solid var(--fill-color);\n",
              "    border-color: transparent;\n",
              "    border-bottom-color: var(--fill-color);\n",
              "    animation:\n",
              "      spin 1s steps(1) infinite;\n",
              "  }\n",
              "\n",
              "  @keyframes spin {\n",
              "    0% {\n",
              "      border-color: transparent;\n",
              "      border-bottom-color: var(--fill-color);\n",
              "      border-left-color: var(--fill-color);\n",
              "    }\n",
              "    20% {\n",
              "      border-color: transparent;\n",
              "      border-left-color: var(--fill-color);\n",
              "      border-top-color: var(--fill-color);\n",
              "    }\n",
              "    30% {\n",
              "      border-color: transparent;\n",
              "      border-left-color: var(--fill-color);\n",
              "      border-top-color: var(--fill-color);\n",
              "      border-right-color: var(--fill-color);\n",
              "    }\n",
              "    40% {\n",
              "      border-color: transparent;\n",
              "      border-right-color: var(--fill-color);\n",
              "      border-top-color: var(--fill-color);\n",
              "    }\n",
              "    60% {\n",
              "      border-color: transparent;\n",
              "      border-right-color: var(--fill-color);\n",
              "    }\n",
              "    80% {\n",
              "      border-color: transparent;\n",
              "      border-right-color: var(--fill-color);\n",
              "      border-bottom-color: var(--fill-color);\n",
              "    }\n",
              "    90% {\n",
              "      border-color: transparent;\n",
              "      border-bottom-color: var(--fill-color);\n",
              "    }\n",
              "  }\n",
              "</style>\n",
              "\n",
              "      <script>\n",
              "        async function quickchart(key) {\n",
              "          const quickchartButtonEl =\n",
              "            document.querySelector('#' + key + ' button');\n",
              "          quickchartButtonEl.disabled = true;  // To prevent multiple clicks.\n",
              "          quickchartButtonEl.classList.add('colab-df-spinner');\n",
              "          try {\n",
              "            const charts = await google.colab.kernel.invokeFunction(\n",
              "                'suggestCharts', [key], {});\n",
              "          } catch (error) {\n",
              "            console.error('Error during call to suggestCharts:', error);\n",
              "          }\n",
              "          quickchartButtonEl.classList.remove('colab-df-spinner');\n",
              "          quickchartButtonEl.classList.add('colab-df-quickchart-complete');\n",
              "        }\n",
              "        (() => {\n",
              "          let quickchartButtonEl =\n",
              "            document.querySelector('#df-7fd3eef6-de08-4a00-96b4-4960d2bc3520 button');\n",
              "          quickchartButtonEl.style.display =\n",
              "            google.colab.kernel.accessAllowed ? 'block' : 'none';\n",
              "        })();\n",
              "      </script>\n",
              "    </div>\n",
              "\n",
              "    </div>\n",
              "  </div>\n"
            ],
            "text/plain": [
              "      Salary_USD Salary_bin_equal\n",
              "0  111392.165243             High\n",
              "1   93792.562466             High\n",
              "2  107170.263069             High\n",
              "3   93027.953758           Medium\n",
              "4   87752.922171           Medium"
            ]
          },
          "execution_count": 37,
          "metadata": {},
          "output_type": "execute_result"
        }
      ],
      "source": [
        "#Discretize continuous values into bins\n",
        "df['Salary_bin_equal'] = pd.cut(df['Salary_USD'], bins=4, labels=['Low', 'Medium', 'High', 'Very High'])\n",
        "df[['Salary_USD', 'Salary_bin_equal']].head()\n"
      ]
    },
    {
      "cell_type": "markdown",
      "metadata": {
        "id": "cs69lbObj3MV"
      },
      "source": [
        "Outlier Handling"
      ]
    },
    {
      "cell_type": "code",
      "execution_count": null,
      "metadata": {
        "colab": {
          "base_uri": "https://localhost:8080/",
          "height": 458
        },
        "id": "MwvFm9lykQt_",
        "outputId": "a4f1f4d0-4d37-4d2b-b2f3-4782d8e29311"
      },
      "outputs": [
        {
          "data": {
            "text/html": [
              "<div>\n",
              "<style scoped>\n",
              "    .dataframe tbody tr th:only-of-type {\n",
              "        vertical-align: middle;\n",
              "    }\n",
              "\n",
              "    .dataframe tbody tr th {\n",
              "        vertical-align: top;\n",
              "    }\n",
              "\n",
              "    .dataframe thead th {\n",
              "        text-align: right;\n",
              "    }\n",
              "</style>\n",
              "<table border=\"1\" class=\"dataframe\">\n",
              "  <thead>\n",
              "    <tr style=\"text-align: right;\">\n",
              "      <th></th>\n",
              "      <th>Salary_USD_outlier</th>\n",
              "    </tr>\n",
              "  </thead>\n",
              "  <tbody>\n",
              "    <tr>\n",
              "      <th>0</th>\n",
              "      <td>0</td>\n",
              "    </tr>\n",
              "    <tr>\n",
              "      <th>1</th>\n",
              "      <td>0</td>\n",
              "    </tr>\n",
              "    <tr>\n",
              "      <th>2</th>\n",
              "      <td>0</td>\n",
              "    </tr>\n",
              "    <tr>\n",
              "      <th>3</th>\n",
              "      <td>0</td>\n",
              "    </tr>\n",
              "    <tr>\n",
              "      <th>4</th>\n",
              "      <td>0</td>\n",
              "    </tr>\n",
              "    <tr>\n",
              "      <th>...</th>\n",
              "      <td>...</td>\n",
              "    </tr>\n",
              "    <tr>\n",
              "      <th>495</th>\n",
              "      <td>0</td>\n",
              "    </tr>\n",
              "    <tr>\n",
              "      <th>496</th>\n",
              "      <td>0</td>\n",
              "    </tr>\n",
              "    <tr>\n",
              "      <th>497</th>\n",
              "      <td>0</td>\n",
              "    </tr>\n",
              "    <tr>\n",
              "      <th>498</th>\n",
              "      <td>0</td>\n",
              "    </tr>\n",
              "    <tr>\n",
              "      <th>499</th>\n",
              "      <td>0</td>\n",
              "    </tr>\n",
              "  </tbody>\n",
              "</table>\n",
              "<p>500 rows × 1 columns</p>\n",
              "</div><br><label><b>dtype:</b> int64</label>"
            ],
            "text/plain": [
              "0      0\n",
              "1      0\n",
              "2      0\n",
              "3      0\n",
              "4      0\n",
              "      ..\n",
              "495    0\n",
              "496    0\n",
              "497    0\n",
              "498    0\n",
              "499    0\n",
              "Name: Salary_USD_outlier, Length: 500, dtype: int64"
            ]
          },
          "execution_count": 45,
          "metadata": {},
          "output_type": "execute_result"
        }
      ],
      "source": [
        "#Indicator Column\n",
        "df['Salary_USD_outlier'] = ((df['Salary_USD'] < lower_bound) | (df['Salary_USD'] > upper_bound)).astype(int)\n",
        "df['Salary_USD_outlier']"
      ]
    }
  ],
  "metadata": {
    "colab": {
      "provenance": []
    },
    "kernelspec": {
      "display_name": "venv",
      "language": "python",
      "name": "python3"
    },
    "language_info": {
      "codemirror_mode": {
        "name": "ipython",
        "version": 3
      },
      "file_extension": ".py",
      "mimetype": "text/x-python",
      "name": "python",
      "nbconvert_exporter": "python",
      "pygments_lexer": "ipython3",
      "version": "3.10.0"
    }
  },
  "nbformat": 4,
  "nbformat_minor": 0
}
